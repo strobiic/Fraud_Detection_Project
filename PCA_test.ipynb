{
 "cells": [
  {
   "cell_type": "code",
   "execution_count": 1,
   "id": "53f215b9-2485-4fe5-8f3c-80d07cbfb83d",
   "metadata": {},
   "outputs": [],
   "source": [
    "import numpy as np\n",
    "import pandas as pd\n",
    "import matplotlib.pyplot as plt\n",
    "from sklearn.metrics import classification_report\n",
    "from sklearn.metrics import accuracy_score\n",
    "from sklearn.metrics import confusion_matrix\n",
    "from sklearn.model_selection import train_test_split\n",
    "from sklearn.model_selection import cross_val_score\n",
    "from sklearn.model_selection import KFold\n",
    "from sklearn.tree import DecisionTreeClassifier\n",
    "from sklearn.neighbors import KNeighborsClassifier\n",
    "from sklearn.naive_bayes import GaussianNB\n",
    "from sklearn.pipeline import Pipeline\n",
    "from sklearn.preprocessing import StandardScaler\n",
    "from sklearn.model_selection import GridSearchCV\n",
    "from sklearn.svm import SVC\n",
    "from sklearn.linear_model import LogisticRegression\n",
    "from pandas.plotting import scatter_matrix\n",
    "import seaborn as sns\n",
    "\n",
    "%matplotlib inline"
   ]
  },
  {
   "cell_type": "code",
   "execution_count": 35,
   "id": "8e940fea-25c5-4296-a6a5-fa77c9095e3f",
   "metadata": {},
   "outputs": [],
   "source": [
    "path=r\"C:\\Users\\Storbiiic\\Desktop\\INTERNSHIP\\CLEAN_SAMPLE\\9_features_BACUDA.csv\"\n",
    "df=pd.read_csv(path, low_memory=False, sep=',')"
   ]
  },
  {
   "cell_type": "code",
   "execution_count": 36,
   "id": "8a4488d0-a288-4e69-a3bd-1f505e879ecd",
   "metadata": {},
   "outputs": [
    {
     "data": {
      "text/plain": [
       "(7616106, 16)"
      ]
     },
     "execution_count": 36,
     "metadata": {},
     "output_type": "execute_result"
    }
   ],
   "source": [
    "df.shape"
   ]
  },
  {
   "cell_type": "code",
   "execution_count": 37,
   "id": "1e758d3c-fa26-4e66-ac76-795e05f27b5f",
   "metadata": {},
   "outputs": [
    {
     "data": {
      "text/plain": [
       "Index(['IDENTIFIANT_DUM', 'ID_OPERATEUR', 'ID_TRANSITAIRE',\n",
       "       'BUREAU_SOUSCRIPTION', 'POIDSBRUTTOTAL', 'POIDSNETTOTAL', 'QUANTITEV0',\n",
       "       'NGPV0', 'POIDV0', 'VALEURV0', 'ADUM_NUM_QUANTNORMV0', 'PAYSORIGINE',\n",
       "       'DAY', 'MONTH', 'YEAR', 'FRAUD'],\n",
       "      dtype='object')"
      ]
     },
     "execution_count": 37,
     "metadata": {},
     "output_type": "execute_result"
    }
   ],
   "source": [
    "df.columns"
   ]
  },
  {
   "cell_type": "code",
   "execution_count": 40,
   "id": "fa996861-e977-4292-8348-70c615511988",
   "metadata": {},
   "outputs": [
    {
     "data": {
      "text/plain": [
       "IDENTIFIANT_DUM         1846429\n",
       "ID_OPERATEUR              73253\n",
       "ID_TRANSITAIRE            30222\n",
       "BUREAU_SOUSCRIPTION          34\n",
       "POIDSBRUTTOTAL           288276\n",
       "POIDSNETTOTAL            411535\n",
       "QUANTITEV0               338698\n",
       "NGPV0                     13105\n",
       "POIDV0                   546231\n",
       "VALEURV0                 714333\n",
       "ADUM_NUM_QUANTNORMV0     463510\n",
       "PAYSORIGINE                 222\n",
       "DAY                          31\n",
       "MONTH                        12\n",
       "YEAR                          4\n",
       "FRAUD                         2\n",
       "dtype: int64"
      ]
     },
     "execution_count": 40,
     "metadata": {},
     "output_type": "execute_result"
    }
   ],
   "source": [
    "df.nunique(axis=0)"
   ]
  },
  {
   "cell_type": "code",
   "execution_count": 42,
   "id": "fd7fbaee",
   "metadata": {},
   "outputs": [
    {
     "data": {
      "text/plain": [
       "495329"
      ]
     },
     "execution_count": 42,
     "metadata": {},
     "output_type": "execute_result"
    }
   ],
   "source": [
    "df.duplicated().sum()"
   ]
  },
  {
   "cell_type": "code",
   "execution_count": 43,
   "id": "cb7c29c9-2870-4b71-be98-076416751b0e",
   "metadata": {},
   "outputs": [
    {
     "data": {
      "text/html": [
       "<div>\n",
       "<style scoped>\n",
       "    .dataframe tbody tr th:only-of-type {\n",
       "        vertical-align: middle;\n",
       "    }\n",
       "\n",
       "    .dataframe tbody tr th {\n",
       "        vertical-align: top;\n",
       "    }\n",
       "\n",
       "    .dataframe thead th {\n",
       "        text-align: right;\n",
       "    }\n",
       "</style>\n",
       "<table border=\"1\" class=\"dataframe\">\n",
       "  <thead>\n",
       "    <tr style=\"text-align: right;\">\n",
       "      <th></th>\n",
       "      <th>IDENTIFIANT_DUM</th>\n",
       "      <th>ID_OPERATEUR</th>\n",
       "      <th>ID_TRANSITAIRE</th>\n",
       "      <th>BUREAU_SOUSCRIPTION</th>\n",
       "      <th>POIDSBRUTTOTAL</th>\n",
       "      <th>POIDSNETTOTAL</th>\n",
       "      <th>QUANTITEV0</th>\n",
       "      <th>NGPV0</th>\n",
       "      <th>POIDV0</th>\n",
       "      <th>VALEURV0</th>\n",
       "      <th>ADUM_NUM_QUANTNORMV0</th>\n",
       "      <th>DAY</th>\n",
       "      <th>MONTH</th>\n",
       "      <th>YEAR</th>\n",
       "      <th>FRAUD</th>\n",
       "    </tr>\n",
       "  </thead>\n",
       "  <tbody>\n",
       "    <tr>\n",
       "      <th>count</th>\n",
       "      <td>7.616106e+06</td>\n",
       "      <td>7.616106e+06</td>\n",
       "      <td>7.616106e+06</td>\n",
       "      <td>7.616106e+06</td>\n",
       "      <td>7.616106e+06</td>\n",
       "      <td>7.616106e+06</td>\n",
       "      <td>7.616106e+06</td>\n",
       "      <td>7.616106e+06</td>\n",
       "      <td>7.616106e+06</td>\n",
       "      <td>7.616106e+06</td>\n",
       "      <td>7.616106e+06</td>\n",
       "      <td>7.616106e+06</td>\n",
       "      <td>7.616106e+06</td>\n",
       "      <td>7.616106e+06</td>\n",
       "      <td>7.616106e+06</td>\n",
       "    </tr>\n",
       "    <tr>\n",
       "      <th>mean</th>\n",
       "      <td>2.386115e+07</td>\n",
       "      <td>1.073976e+05</td>\n",
       "      <td>6.932092e+04</td>\n",
       "      <td>3.399268e+02</td>\n",
       "      <td>3.276170e+04</td>\n",
       "      <td>3.118101e+04</td>\n",
       "      <td>4.052762e+04</td>\n",
       "      <td>6.612106e+09</td>\n",
       "      <td>2.404175e+04</td>\n",
       "      <td>1.975422e+05</td>\n",
       "      <td>2.761072e+04</td>\n",
       "      <td>1.579509e+01</td>\n",
       "      <td>6.497001e+00</td>\n",
       "      <td>2.018743e+03</td>\n",
       "      <td>9.955219e-04</td>\n",
       "    </tr>\n",
       "    <tr>\n",
       "      <th>std</th>\n",
       "      <td>2.283120e+06</td>\n",
       "      <td>1.336282e+05</td>\n",
       "      <td>1.131923e+05</td>\n",
       "      <td>7.433487e+01</td>\n",
       "      <td>7.248309e+05</td>\n",
       "      <td>6.437586e+05</td>\n",
       "      <td>2.500426e+06</td>\n",
       "      <td>2.182487e+09</td>\n",
       "      <td>6.314597e+05</td>\n",
       "      <td>4.746357e+06</td>\n",
       "      <td>2.431325e+06</td>\n",
       "      <td>8.689609e+00</td>\n",
       "      <td>3.521995e+00</td>\n",
       "      <td>1.004208e+00</td>\n",
       "      <td>3.153618e-02</td>\n",
       "    </tr>\n",
       "    <tr>\n",
       "      <th>min</th>\n",
       "      <td>2.025410e+07</td>\n",
       "      <td>1.000000e+03</td>\n",
       "      <td>1.000000e+03</td>\n",
       "      <td>1.000000e+02</td>\n",
       "      <td>1.000000e-02</td>\n",
       "      <td>1.000000e-03</td>\n",
       "      <td>1.000000e-03</td>\n",
       "      <td>1.012100e+08</td>\n",
       "      <td>1.000000e-03</td>\n",
       "      <td>1.000000e-03</td>\n",
       "      <td>0.000000e+00</td>\n",
       "      <td>1.000000e+00</td>\n",
       "      <td>1.000000e+00</td>\n",
       "      <td>2.017000e+03</td>\n",
       "      <td>0.000000e+00</td>\n",
       "    </tr>\n",
       "    <tr>\n",
       "      <th>25%</th>\n",
       "      <td>2.181279e+07</td>\n",
       "      <td>1.043400e+04</td>\n",
       "      <td>1.255000e+03</td>\n",
       "      <td>3.000000e+02</td>\n",
       "      <td>5.040000e+02</td>\n",
       "      <td>4.270920e+02</td>\n",
       "      <td>4.000000e+00</td>\n",
       "      <td>4.908900e+09</td>\n",
       "      <td>3.000000e+00</td>\n",
       "      <td>9.500000e+02</td>\n",
       "      <td>3.000000e+00</td>\n",
       "      <td>8.000000e+00</td>\n",
       "      <td>3.000000e+00</td>\n",
       "      <td>2.018000e+03</td>\n",
       "      <td>0.000000e+00</td>\n",
       "    </tr>\n",
       "    <tr>\n",
       "      <th>50%</th>\n",
       "      <td>2.374879e+07</td>\n",
       "      <td>3.388600e+04</td>\n",
       "      <td>1.136000e+04</td>\n",
       "      <td>3.090000e+02</td>\n",
       "      <td>2.347590e+03</td>\n",
       "      <td>1.995580e+03</td>\n",
       "      <td>4.000000e+01</td>\n",
       "      <td>6.802930e+09</td>\n",
       "      <td>3.000000e+01</td>\n",
       "      <td>5.851000e+03</td>\n",
       "      <td>2.789000e+01</td>\n",
       "      <td>1.600000e+01</td>\n",
       "      <td>7.000000e+00</td>\n",
       "      <td>2.019000e+03</td>\n",
       "      <td>0.000000e+00</td>\n",
       "    </tr>\n",
       "    <tr>\n",
       "      <th>75%</th>\n",
       "      <td>2.606737e+07</td>\n",
       "      <td>1.958220e+05</td>\n",
       "      <td>7.026500e+04</td>\n",
       "      <td>4.110000e+02</td>\n",
       "      <td>9.077000e+03</td>\n",
       "      <td>7.604090e+03</td>\n",
       "      <td>9.480000e+02</td>\n",
       "      <td>8.504410e+09</td>\n",
       "      <td>4.326000e+02</td>\n",
       "      <td>4.376500e+04</td>\n",
       "      <td>4.822500e+02</td>\n",
       "      <td>2.300000e+01</td>\n",
       "      <td>1.000000e+01</td>\n",
       "      <td>2.020000e+03</td>\n",
       "      <td>0.000000e+00</td>\n",
       "    </tr>\n",
       "    <tr>\n",
       "      <th>max</th>\n",
       "      <td>2.777334e+07</td>\n",
       "      <td>7.258490e+05</td>\n",
       "      <td>7.258490e+05</td>\n",
       "      <td>7.000000e+02</td>\n",
       "      <td>5.161171e+08</td>\n",
       "      <td>8.344050e+07</td>\n",
       "      <td>6.217100e+09</td>\n",
       "      <td>1.000000e+10</td>\n",
       "      <td>8.344050e+07</td>\n",
       "      <td>9.290355e+09</td>\n",
       "      <td>4.823910e+09</td>\n",
       "      <td>3.100000e+01</td>\n",
       "      <td>1.200000e+01</td>\n",
       "      <td>2.020000e+03</td>\n",
       "      <td>1.000000e+00</td>\n",
       "    </tr>\n",
       "  </tbody>\n",
       "</table>\n",
       "</div>"
      ],
      "text/plain": [
       "       IDENTIFIANT_DUM  ID_OPERATEUR  ID_TRANSITAIRE  BUREAU_SOUSCRIPTION  \\\n",
       "count     7.616106e+06  7.616106e+06    7.616106e+06         7.616106e+06   \n",
       "mean      2.386115e+07  1.073976e+05    6.932092e+04         3.399268e+02   \n",
       "std       2.283120e+06  1.336282e+05    1.131923e+05         7.433487e+01   \n",
       "min       2.025410e+07  1.000000e+03    1.000000e+03         1.000000e+02   \n",
       "25%       2.181279e+07  1.043400e+04    1.255000e+03         3.000000e+02   \n",
       "50%       2.374879e+07  3.388600e+04    1.136000e+04         3.090000e+02   \n",
       "75%       2.606737e+07  1.958220e+05    7.026500e+04         4.110000e+02   \n",
       "max       2.777334e+07  7.258490e+05    7.258490e+05         7.000000e+02   \n",
       "\n",
       "       POIDSBRUTTOTAL  POIDSNETTOTAL    QUANTITEV0         NGPV0  \\\n",
       "count    7.616106e+06   7.616106e+06  7.616106e+06  7.616106e+06   \n",
       "mean     3.276170e+04   3.118101e+04  4.052762e+04  6.612106e+09   \n",
       "std      7.248309e+05   6.437586e+05  2.500426e+06  2.182487e+09   \n",
       "min      1.000000e-02   1.000000e-03  1.000000e-03  1.012100e+08   \n",
       "25%      5.040000e+02   4.270920e+02  4.000000e+00  4.908900e+09   \n",
       "50%      2.347590e+03   1.995580e+03  4.000000e+01  6.802930e+09   \n",
       "75%      9.077000e+03   7.604090e+03  9.480000e+02  8.504410e+09   \n",
       "max      5.161171e+08   8.344050e+07  6.217100e+09  1.000000e+10   \n",
       "\n",
       "             POIDV0      VALEURV0  ADUM_NUM_QUANTNORMV0           DAY  \\\n",
       "count  7.616106e+06  7.616106e+06          7.616106e+06  7.616106e+06   \n",
       "mean   2.404175e+04  1.975422e+05          2.761072e+04  1.579509e+01   \n",
       "std    6.314597e+05  4.746357e+06          2.431325e+06  8.689609e+00   \n",
       "min    1.000000e-03  1.000000e-03          0.000000e+00  1.000000e+00   \n",
       "25%    3.000000e+00  9.500000e+02          3.000000e+00  8.000000e+00   \n",
       "50%    3.000000e+01  5.851000e+03          2.789000e+01  1.600000e+01   \n",
       "75%    4.326000e+02  4.376500e+04          4.822500e+02  2.300000e+01   \n",
       "max    8.344050e+07  9.290355e+09          4.823910e+09  3.100000e+01   \n",
       "\n",
       "              MONTH          YEAR         FRAUD  \n",
       "count  7.616106e+06  7.616106e+06  7.616106e+06  \n",
       "mean   6.497001e+00  2.018743e+03  9.955219e-04  \n",
       "std    3.521995e+00  1.004208e+00  3.153618e-02  \n",
       "min    1.000000e+00  2.017000e+03  0.000000e+00  \n",
       "25%    3.000000e+00  2.018000e+03  0.000000e+00  \n",
       "50%    7.000000e+00  2.019000e+03  0.000000e+00  \n",
       "75%    1.000000e+01  2.020000e+03  0.000000e+00  \n",
       "max    1.200000e+01  2.020000e+03  1.000000e+00  "
      ]
     },
     "execution_count": 43,
     "metadata": {},
     "output_type": "execute_result"
    }
   ],
   "source": [
    "df.describe()"
   ]
  },
  {
   "cell_type": "code",
   "execution_count": 44,
   "id": "e46ec2aa",
   "metadata": {},
   "outputs": [
    {
     "data": {
      "text/plain": [
       "IDENTIFIANT_DUM          0\n",
       "ID_OPERATEUR             0\n",
       "ID_TRANSITAIRE           0\n",
       "BUREAU_SOUSCRIPTION      0\n",
       "POIDSBRUTTOTAL           0\n",
       "POIDSNETTOTAL            0\n",
       "QUANTITEV0               0\n",
       "NGPV0                    0\n",
       "POIDV0                   0\n",
       "VALEURV0                 0\n",
       "ADUM_NUM_QUANTNORMV0     0\n",
       "PAYSORIGINE             51\n",
       "DAY                      0\n",
       "MONTH                    0\n",
       "YEAR                     0\n",
       "FRAUD                    0\n",
       "dtype: int64"
      ]
     },
     "execution_count": 44,
     "metadata": {},
     "output_type": "execute_result"
    }
   ],
   "source": [
    "df.isna().sum()"
   ]
  },
  {
   "cell_type": "code",
   "execution_count": 50,
   "id": "a01975fc",
   "metadata": {},
   "outputs": [],
   "source": [
    "from sklearn.preprocessing import LabelEncoder\n",
    "\n",
    "label_encoder = LabelEncoder()\n",
    "df['PAYSORIGINE'] = label_encoder.fit_transform(df['PAYSORIGINE'])\n"
   ]
  },
  {
   "cell_type": "code",
   "execution_count": 51,
   "id": "f697a2a4",
   "metadata": {},
   "outputs": [
    {
     "data": {
      "text/plain": [
       "IDENTIFIANT_DUM           int64\n",
       "ID_OPERATEUR              int64\n",
       "ID_TRANSITAIRE            int64\n",
       "BUREAU_SOUSCRIPTION       int64\n",
       "POIDSBRUTTOTAL          float64\n",
       "POIDSNETTOTAL           float64\n",
       "QUANTITEV0              float64\n",
       "NGPV0                     int64\n",
       "POIDV0                  float64\n",
       "VALEURV0                float64\n",
       "ADUM_NUM_QUANTNORMV0    float64\n",
       "PAYSORIGINE               int32\n",
       "DAY                       int64\n",
       "MONTH                     int64\n",
       "YEAR                      int64\n",
       "FRAUD                   float64\n",
       "dtype: object"
      ]
     },
     "execution_count": 51,
     "metadata": {},
     "output_type": "execute_result"
    }
   ],
   "source": [
    "df.dtypes"
   ]
  },
  {
   "cell_type": "code",
   "execution_count": null,
   "id": "27f2f9f2",
   "metadata": {},
   "outputs": [],
   "source": []
  },
  {
   "cell_type": "markdown",
   "id": "fd15ae74",
   "metadata": {},
   "source": [
    "# STANDARISATION AND PCA"
   ]
  },
  {
   "cell_type": "markdown",
   "id": "cfc6898a",
   "metadata": {},
   "source": [
    "## First case on the 9 features "
   ]
  },
  {
   "cell_type": "code",
   "execution_count": 52,
   "id": "093ef34c",
   "metadata": {},
   "outputs": [],
   "source": [
    "from sklearn.decomposition import PCA\n",
    "from sklearn.preprocessing import StandardScaler"
   ]
  },
  {
   "cell_type": "code",
   "execution_count": 53,
   "id": "2ef720a2",
   "metadata": {},
   "outputs": [],
   "source": [
    "#Standardize the data\n",
    "scaler = StandardScaler()\n",
    "data_scaled = scaler.fit_transform(df)"
   ]
  },
  {
   "cell_type": "code",
   "execution_count": 54,
   "id": "30558a26-bc90-40c9-8fee-11d48782d20d",
   "metadata": {},
   "outputs": [],
   "source": [
    "# Calculate covariance matrix\n",
    "cov_matrix = np.cov(data_scaled, rowvar=False)\n",
    "\n",
    "# Calculate eigenvalues and eigenvectors\n",
    "eigenvalues, eigenvectors = np.linalg.eigh(cov_matrix)\n",
    "\n",
    "# Sort eigenvalues in descending order\n",
    "sorted_indices = np.argsort(eigenvalues)[::-1]\n",
    "sorted_eigenvalues = eigenvalues[sorted_indices]\n",
    "sorted_eigenvectors = eigenvectors[:, sorted_indices]\n",
    "\n",
    "n_components = 2  \n",
    "\n",
    "# Project data onto reduced dimensions\n",
    "pca = PCA(n_components=n_components)\n",
    "compressed_data = pca.fit_transform(data_scaled)\n"
   ]
  },
  {
   "cell_type": "code",
   "execution_count": 58,
   "id": "8f75bfe3",
   "metadata": {},
   "outputs": [
    {
     "data": {
      "text/plain": [
       "array([[ 0.14287288,  1.3028045 ],\n",
       "       [ 0.24288954,  0.6949983 ],\n",
       "       [ 0.41603699,  1.41500948],\n",
       "       ...,\n",
       "       [ 0.0844636 , -1.50859652],\n",
       "       [-0.10404424, -1.76690716],\n",
       "       [ 0.06535712, -1.50885549]])"
      ]
     },
     "execution_count": 58,
     "metadata": {},
     "output_type": "execute_result"
    }
   ],
   "source": [
    "compressed_data"
   ]
  },
  {
   "cell_type": "code",
   "execution_count": 56,
   "id": "2d5b33a1",
   "metadata": {},
   "outputs": [
    {
     "data": {
      "image/png": "[encoded data removed]",
      "text/plain": [
       "<Figure size 640x480 with 1 Axes>"
      ]
     },
     "metadata": {},
     "output_type": "display_data"
    }
   ],
   "source": [
    "# Scatter plot of the compressed data\n",
    "plt.scatter(compressed_data[:, 0], compressed_data[:, 1])\n",
    "plt.xlabel('Principal Component 1')\n",
    "plt.ylabel('Principal Component 2')\n",
    "plt.title('PCA Compressed Data Scatter Plot')\n",
    "plt.show()\n"
   ]
  },
  {
   "cell_type": "markdown",
   "id": "f99cf318",
   "metadata": {},
   "source": [
    "### AUTOENCODER WITH PCA ON 9 FEATURES"
   ]
  },
  {
   "cell_type": "code",
   "execution_count": 62,
   "id": "144a4cc5",
   "metadata": {},
   "outputs": [
    {
     "name": "stdout",
     "output_type": "stream",
     "text": [
      "Epoch 1/15\n",
      "14876/14876 [==============================] - 39s 3ms/step - loss: 2.3206\n",
      "Epoch 2/15\n",
      "14876/14876 [==============================] - 40s 3ms/step - loss: 2.1936\n",
      "Epoch 3/15\n",
      "14876/14876 [==============================] - 40s 3ms/step - loss: 2.1922\n",
      "Epoch 4/15\n",
      "14876/14876 [==============================] - 40s 3ms/step - loss: 2.1922\n",
      "Epoch 5/15\n",
      "14876/14876 [==============================] - 40s 3ms/step - loss: 2.1922\n",
      "Epoch 6/15\n",
      "14876/14876 [==============================] - 40s 3ms/step - loss: 2.1922\n",
      "Epoch 7/15\n",
      "14876/14876 [==============================] - 40s 3ms/step - loss: 2.1922\n",
      "Epoch 8/15\n",
      "14876/14876 [==============================] - 41s 3ms/step - loss: 2.1922\n",
      "Epoch 9/15\n",
      "14876/14876 [==============================] - 41s 3ms/step - loss: 2.1922\n",
      "Epoch 10/15\n",
      "14876/14876 [==============================] - 41s 3ms/step - loss: 2.1922\n",
      "Epoch 11/15\n",
      "14876/14876 [==============================] - 40s 3ms/step - loss: 2.1922\n",
      "Epoch 12/15\n",
      "14876/14876 [==============================] - 40s 3ms/step - loss: 2.1922\n",
      "Epoch 13/15\n",
      "14876/14876 [==============================] - 40s 3ms/step - loss: 2.1922\n",
      "Epoch 14/15\n",
      "14876/14876 [==============================] - 41s 3ms/step - loss: 2.1922\n",
      "Epoch 15/15\n",
      "14876/14876 [==============================] - 41s 3ms/step - loss: 2.1922\n",
      "238004/238004 [==============================] - 328s 1ms/step\n",
      "Anomalies detected: [[ 0.54941495  0.69863412]\n",
      " [ 0.04319461  1.41093557]\n",
      " [-0.1372347   1.43699837]\n",
      " ...\n",
      " [ 0.0844636  -1.50859652]\n",
      " [-0.10404424 -1.76690716]\n",
      " [ 0.06535712 -1.50885549]]\n"
     ]
    }
   ],
   "source": [
    "from keras.layers import Input, Dense\n",
    "from keras.models import Model\n",
    "\n",
    "# Build the autoencoder\n",
    "input_dim = 2  # Number of features in compressed_data\n",
    "encoding_dim = 1  # Choose an encoding dimension\n",
    "input_layer = Input(shape=(input_dim,))\n",
    "encoded = Dense(encoding_dim, activation='relu')(input_layer)\n",
    "decoded = Dense(input_dim, activation='sigmoid')(encoded)\n",
    "\n",
    "autoencoder = Model(inputs=input_layer, outputs=decoded)\n",
    "autoencoder.compile(optimizer='adam', loss='mean_squared_error')\n",
    "\n",
    "# Train the autoencoder\n",
    "autoencoder.fit(compressed_data, compressed_data, epochs=15, batch_size=512, shuffle=True)\n",
    "\n",
    "# Use the trained autoencoder for anomaly detection\n",
    "reconstructed_data = autoencoder.predict(compressed_data)\n",
    "reconstruction_loss = np.mean(np.square(compressed_data - reconstructed_data), axis=1)\n",
    "\n",
    "# Set a threshold for anomaly detection\n",
    "threshold = 0.1  # Adjust this based on your data and requirements\n",
    "\n",
    "# Identify anomalies\n",
    "anomalies = compressed_data[reconstruction_loss > threshold]\n",
    "\n",
    "print(\"Anomalies detected:\", anomalies)\n"
   ]
  },
  {
   "cell_type": "code",
   "execution_count": 63,
   "id": "9dc470f1",
   "metadata": {},
   "outputs": [
    {
     "data": {
      "image/png": "[encoded data removed]",
      "text/plain": [
       "<Figure size 640x480 with 1 Axes>"
      ]
     },
     "metadata": {},
     "output_type": "display_data"
    }
   ],
   "source": [
    "# Scatter plot of the compressed data\n",
    "plt.scatter(anomalies[:, 0], anomalies[:, 1])\n",
    "plt.xlabel('Principal Component 1')\n",
    "plt.ylabel('Principal Component 2')\n",
    "plt.title('PCA Compressed Data Scatter Plot')\n",
    "plt.show()"
   ]
  },
  {
   "cell_type": "code",
   "execution_count": 76,
   "id": "d49b03da",
   "metadata": {},
   "outputs": [
    {
     "ename": "NameError",
     "evalue": "name 'anomalies_data' is not defined",
     "output_type": "error",
     "traceback": [
      "\u001b[1;31m---------------------------------------------------------------------------\u001b[0m",
      "\u001b[1;31mNameError\u001b[0m                                 Traceback (most recent call last)",
      "Cell \u001b[1;32mIn[76], line 4\u001b[0m\n\u001b[0;32m      1\u001b[0m \u001b[39mimport\u001b[39;00m \u001b[39mseaborn\u001b[39;00m \u001b[39mas\u001b[39;00m \u001b[39msns\u001b[39;00m\n\u001b[0;32m      3\u001b[0m sns\u001b[39m.\u001b[39mkdeplot(compressed_data[:, \u001b[39m0\u001b[39m], label\u001b[39m=\u001b[39m\u001b[39m'\u001b[39m\u001b[39mCompressed Data\u001b[39m\u001b[39m'\u001b[39m)\n\u001b[1;32m----> 4\u001b[0m sns\u001b[39m.\u001b[39mkdeplot(anomalies_data[:, \u001b[39m0\u001b[39m], color\u001b[39m=\u001b[39m\u001b[39m'\u001b[39m\u001b[39mred\u001b[39m\u001b[39m'\u001b[39m, label\u001b[39m=\u001b[39m\u001b[39m'\u001b[39m\u001b[39mAnomalies\u001b[39m\u001b[39m'\u001b[39m)\n\u001b[0;32m      5\u001b[0m plt\u001b[39m.\u001b[39mxlabel(\u001b[39m'\u001b[39m\u001b[39mPrincipal Component 1\u001b[39m\u001b[39m'\u001b[39m)\n\u001b[0;32m      6\u001b[0m plt\u001b[39m.\u001b[39mylabel(\u001b[39m'\u001b[39m\u001b[39mDensity\u001b[39m\u001b[39m'\u001b[39m)\n",
      "\u001b[1;31mNameError\u001b[0m: name 'anomalies_data' is not defined"
     ]
    },
    {
     "data": {
      "image/png": "[encoded data removed]",
      "text/plain": [
       "<Figure size 640x480 with 1 Axes>"
      ]
     },
     "metadata": {},
     "output_type": "display_data"
    }
   ],
   "source": [
    "import seaborn as sns\n",
    "\n",
    "sns.kdeplot(compressed_data[:, 0], label='Compressed Data')\n",
    "sns.kdeplot(anomalies_data[:, 0], color='red', label='Anomalies')\n",
    "plt.xlabel('Principal Component 1')\n",
    "plt.ylabel('Density')\n",
    "plt.title('Kernel Density Estimation of Principal Component 1')\n",
    "plt.legend()\n",
    "plt.show()\n"
   ]
  },
  {
   "cell_type": "code",
   "execution_count": 73,
   "id": "d50553b4",
   "metadata": {},
   "outputs": [
    {
     "name": "stdout",
     "output_type": "stream",
     "text": [
      "Epoch 1/15\n",
      "14876/14876 [==============================] - 46s 3ms/step - loss: 2.2234\n",
      "Epoch 2/15\n",
      "14876/14876 [==============================] - 48s 3ms/step - loss: 2.1545\n",
      "Epoch 3/15\n",
      "14876/14876 [==============================] - 49s 3ms/step - loss: 2.1477\n",
      "Epoch 4/15\n",
      "14876/14876 [==============================] - 47s 3ms/step - loss: 2.1477\n",
      "Epoch 5/15\n",
      "14876/14876 [==============================] - 44s 3ms/step - loss: 2.1477\n",
      "Epoch 6/15\n",
      "14876/14876 [==============================] - 46s 3ms/step - loss: 2.1477\n",
      "Epoch 7/15\n",
      "14876/14876 [==============================] - 46s 3ms/step - loss: 2.1476\n",
      "Epoch 8/15\n",
      "14876/14876 [==============================] - 48s 3ms/step - loss: 2.1476\n",
      "Epoch 9/15\n",
      "14876/14876 [==============================] - 51s 3ms/step - loss: 2.1477\n",
      "Epoch 10/15\n",
      "14876/14876 [==============================] - 50s 3ms/step - loss: 2.1477\n",
      "Epoch 11/15\n",
      "14876/14876 [==============================] - 47s 3ms/step - loss: 2.1477\n",
      "Epoch 12/15\n",
      "14876/14876 [==============================] - 50s 3ms/step - loss: 2.1476\n",
      "Epoch 13/15\n",
      "14876/14876 [==============================] - 51s 3ms/step - loss: 2.1476\n",
      "Epoch 14/15\n",
      "14876/14876 [==============================] - 50s 3ms/step - loss: 2.1476\n",
      "Epoch 15/15\n",
      "14876/14876 [==============================] - 50s 3ms/step - loss: 2.1476\n"
     ]
    }
   ],
   "source": [
    "import numpy as np\n",
    "import tensorflow as tf\n",
    "from tensorflow import keras\n",
    "from tensorflow.keras import layers\n",
    "\n",
    "# Assuming 'compressed_data' is your 2-dimensional compressed data\n",
    "# Convert 'compressed_data' to a NumPy array if it's not already\n",
    "compressed_data = np.array(compressed_data)\n",
    "\n",
    "# Define the dimensions for your autoencoder\n",
    "input_dim = 2\n",
    "encoding_dim = 1  # Desired reduced dimension\n",
    "\n",
    "# Create the autoencoder model\n",
    "autoencoder = keras.Sequential()\n",
    "\n",
    "# Encoder layers\n",
    "autoencoder.add(layers.Input(shape=(input_dim,)))\n",
    "autoencoder.add(layers.Dense(2, activation='relu'))  # Adding more neurons than encoding_dim can help capture complex patterns\n",
    "autoencoder.add(layers.Dense(encoding_dim, activation='relu'))\n",
    "\n",
    "# Decoder layers\n",
    "autoencoder.add(layers.Dense(2, activation='relu'))\n",
    "autoencoder.add(layers.Dense(input_dim, activation='sigmoid'))\n",
    "\n",
    "# Compile the autoencoder\n",
    "autoencoder.compile(optimizer='adam', loss='mse')  # Mean squared error loss for reconstruction\n",
    "\n",
    "# Train the autoencoder\n",
    "history=autoencoder.fit(compressed_data, compressed_data, epochs=15, batch_size=512, shuffle=True)\n"
   ]
  },
  {
   "cell_type": "code",
   "execution_count": 74,
   "id": "48aa9f5c",
   "metadata": {},
   "outputs": [
    {
     "ename": "KeyError",
     "evalue": "'val_loss'",
     "output_type": "error",
     "traceback": [
      "\u001b[1;31m---------------------------------------------------------------------------\u001b[0m",
      "\u001b[1;31mKeyError\u001b[0m                                  Traceback (most recent call last)",
      "Cell \u001b[1;32mIn[74], line 2\u001b[0m\n\u001b[0;32m      1\u001b[0m plt\u001b[39m.\u001b[39mplot(history\u001b[39m.\u001b[39mhistory[\u001b[39m\"\u001b[39m\u001b[39mloss\u001b[39m\u001b[39m\"\u001b[39m], label\u001b[39m=\u001b[39m\u001b[39m\"\u001b[39m\u001b[39mTraining Loss\u001b[39m\u001b[39m\"\u001b[39m)\n\u001b[1;32m----> 2\u001b[0m plt\u001b[39m.\u001b[39mplot(history\u001b[39m.\u001b[39;49mhistory[\u001b[39m\"\u001b[39;49m\u001b[39mval_loss\u001b[39;49m\u001b[39m\"\u001b[39;49m], label\u001b[39m=\u001b[39m\u001b[39m\"\u001b[39m\u001b[39mValidation Loss\u001b[39m\u001b[39m\"\u001b[39m)\n\u001b[0;32m      3\u001b[0m plt\u001b[39m.\u001b[39mlegend()\n",
      "\u001b[1;31mKeyError\u001b[0m: 'val_loss'"
     ]
    },
    {
     "data": {
      "image/png": "[encoded data removed]",
      "text/plain": [
       "<Figure size 640x480 with 1 Axes>"
      ]
     },
     "metadata": {},
     "output_type": "display_data"
    }
   ],
   "source": [
    "plt.plot(history.history[\"loss\"], label=\"Training Loss\")\n",
    "plt.plot(history.history[\"val_loss\"], label=\"Validation Loss\")\n",
    "plt.legend()"
   ]
  }
 ],
 "metadata": {
  "kernelspec": {
   "display_name": "Python 3 (ipykernel)",
   "language": "python",
   "name": "python3"
  },
  "language_info": {
   "codemirror_mode": {
    "name": "ipython",
    "version": 3
   },
   "file_extension": ".py",
   "mimetype": "text/x-python",
   "name": "python",
   "nbconvert_exporter": "python",
   "pygments_lexer": "ipython3",
   "version": "3.10.12"
  }
 },
 "nbformat": 4,
 "nbformat_minor": 5
}

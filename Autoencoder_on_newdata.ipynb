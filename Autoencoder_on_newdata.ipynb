{
 "cells": [
  {
   "cell_type": "code",
   "execution_count": 2,
   "metadata": {},
   "outputs": [],
   "source": [
    "import pandas as pd\n",
    "import numpy as np\n",
    "import matplotlib.pyplot as plt\n",
    "import seaborn as sns"
   ]
  },
  {
   "cell_type": "markdown",
   "metadata": {},
   "source": [
    "## FUNCTIONS "
   ]
  },
  {
   "cell_type": "code",
   "execution_count": 3,
   "metadata": {},
   "outputs": [],
   "source": [
    "#function to convert dtype into dates( from date as object to date as date \"timestamp\")\n",
    "def to_date(data,format):\n",
    "    df=data\n",
    "    #df=df.rename(columns={'DATEENREGISTREMENT':'timestamp'})\n",
    "    df['timestamp'] = pd.to_datetime(df['timestamp'], format=format, errors='coerce')\n",
    "    # Drop rows with NaT values in the 'timestamp' column.\n",
    "    df.dropna(subset=['timestamp'], inplace=True)\n",
    "    df['Year'] = df['timestamp'].dt.year\n",
    "    df['Month'] = df['timestamp'].dt.month\n",
    "    df['Day'] = df['timestamp'].dt.day\n",
    "    del df['timestamp']\n",
    "    return df"
   ]
  },
  {
   "cell_type": "code",
   "execution_count": 4,
   "metadata": {},
   "outputs": [],
   "source": [
    "def risk_op(data):\n",
    "    df=data\n",
    "    Fraud_op = data[(data['FRAUD'] == 1) & (data['DECLARANT_POUR_LUI_MEME'] == 'O')]\n",
    "    data['RISK_OP'] = data['ID_OPERATEUR'].isin(Fraud_op['ID_OPERATEUR'].unique()).astype(int)\n",
    "    return df"
   ]
  },
  {
   "cell_type": "code",
   "execution_count": 5,
   "metadata": {},
   "outputs": [],
   "source": [
    "def risk_tr(data):\n",
    "    df=data\n",
    "    Fraud_tr = data[(data['FRAUD'] == 1) & (data['DECLARANT_POUR_LUI_MEME'] == 'N')]\n",
    "    data['RISK_tr'] = data['ID_TRANSITAIRE'].isin(Fraud_tr['ID_TRANSITAIRE'].unique()).astype(int)\n",
    "    return df "
   ]
  },
  {
   "cell_type": "code",
   "execution_count": 6,
   "metadata": {},
   "outputs": [],
   "source": [
    "path=r\"D:\\dataset new version\\new_dataset.csv\""
   ]
  },
  {
   "cell_type": "code",
   "execution_count": 7,
   "metadata": {},
   "outputs": [],
   "source": [
    "df=pd.read_csv(path,sep=',',low_memory=False)"
   ]
  },
  {
   "cell_type": "code",
   "execution_count": 8,
   "metadata": {},
   "outputs": [
    {
     "data": {
      "text/html": [
       "<div>\n",
       "<style scoped>\n",
       "    .dataframe tbody tr th:only-of-type {\n",
       "        vertical-align: middle;\n",
       "    }\n",
       "\n",
       "    .dataframe tbody tr th {\n",
       "        vertical-align: top;\n",
       "    }\n",
       "\n",
       "    .dataframe thead th {\n",
       "        text-align: right;\n",
       "    }\n",
       "</style>\n",
       "<table border=\"1\" class=\"dataframe\">\n",
       "  <thead>\n",
       "    <tr style=\"text-align: right;\">\n",
       "      <th></th>\n",
       "      <th>ID_DUM</th>\n",
       "      <th>ID_TRANSITAIRE</th>\n",
       "      <th>timestamp</th>\n",
       "      <th>ID_OPERATEUR</th>\n",
       "      <th>NOMBRE_ARTICLES</th>\n",
       "      <th>VALEUR_DUM_DECLAREE</th>\n",
       "      <th>POIDS_NET</th>\n",
       "      <th>POIDS_BRUT</th>\n",
       "      <th>COD_BD</th>\n",
       "      <th>COD_RD</th>\n",
       "      <th>COD_ACCORD</th>\n",
       "      <th>COD_FRANCHISE</th>\n",
       "      <th>FRAUD</th>\n",
       "      <th>DECLARANT_PR</th>\n",
       "    </tr>\n",
       "  </thead>\n",
       "  <tbody>\n",
       "    <tr>\n",
       "      <th>0</th>\n",
       "      <td>14797661</td>\n",
       "      <td>1005</td>\n",
       "      <td>2014-02-10 11:50:15.027000000</td>\n",
       "      <td>245324</td>\n",
       "      <td>1</td>\n",
       "      <td>21946.0</td>\n",
       "      <td>2095.00</td>\n",
       "      <td>2095.00</td>\n",
       "      <td>100</td>\n",
       "      <td>2</td>\n",
       "      <td>NaN</td>\n",
       "      <td>NaN</td>\n",
       "      <td>0</td>\n",
       "      <td>N</td>\n",
       "    </tr>\n",
       "    <tr>\n",
       "      <th>1</th>\n",
       "      <td>15289810</td>\n",
       "      <td>2001</td>\n",
       "      <td>2014-08-01 15:11:52.150000000</td>\n",
       "      <td>249725</td>\n",
       "      <td>1</td>\n",
       "      <td>125586.0</td>\n",
       "      <td>1700.00</td>\n",
       "      <td>1760.00</td>\n",
       "      <td>100</td>\n",
       "      <td>2</td>\n",
       "      <td>NaN</td>\n",
       "      <td>NaN</td>\n",
       "      <td>0</td>\n",
       "      <td>N</td>\n",
       "    </tr>\n",
       "    <tr>\n",
       "      <th>2</th>\n",
       "      <td>15345977</td>\n",
       "      <td>1005</td>\n",
       "      <td>2014-09-04 10:46:55.800000000</td>\n",
       "      <td>247286</td>\n",
       "      <td>1</td>\n",
       "      <td>786673.0</td>\n",
       "      <td>4682.94</td>\n",
       "      <td>4684.25</td>\n",
       "      <td>100</td>\n",
       "      <td>2</td>\n",
       "      <td>NaN</td>\n",
       "      <td>NaN</td>\n",
       "      <td>0</td>\n",
       "      <td>N</td>\n",
       "    </tr>\n",
       "    <tr>\n",
       "      <th>3</th>\n",
       "      <td>15477796</td>\n",
       "      <td>1075</td>\n",
       "      <td>2014-10-21 09:04:38.323000000</td>\n",
       "      <td>1109</td>\n",
       "      <td>4</td>\n",
       "      <td>2731389.0</td>\n",
       "      <td>123394.00</td>\n",
       "      <td>123394.00</td>\n",
       "      <td>100</td>\n",
       "      <td>2</td>\n",
       "      <td>NaN</td>\n",
       "      <td>NaN</td>\n",
       "      <td>0</td>\n",
       "      <td>N</td>\n",
       "    </tr>\n",
       "    <tr>\n",
       "      <th>4</th>\n",
       "      <td>17150681</td>\n",
       "      <td>11587</td>\n",
       "      <td>2016-01-15 12:35:22.837000000</td>\n",
       "      <td>258062</td>\n",
       "      <td>3</td>\n",
       "      <td>1696083.0</td>\n",
       "      <td>131467.00</td>\n",
       "      <td>137880.00</td>\n",
       "      <td>100</td>\n",
       "      <td>2</td>\n",
       "      <td>NaN</td>\n",
       "      <td>NaN</td>\n",
       "      <td>0</td>\n",
       "      <td>N</td>\n",
       "    </tr>\n",
       "  </tbody>\n",
       "</table>\n",
       "</div>"
      ],
      "text/plain": [
       "     ID_DUM  ID_TRANSITAIRE                      timestamp  ID_OPERATEUR  \\\n",
       "0  14797661            1005  2014-02-10 11:50:15.027000000        245324   \n",
       "1  15289810            2001  2014-08-01 15:11:52.150000000        249725   \n",
       "2  15345977            1005  2014-09-04 10:46:55.800000000        247286   \n",
       "3  15477796            1075  2014-10-21 09:04:38.323000000          1109   \n",
       "4  17150681           11587  2016-01-15 12:35:22.837000000        258062   \n",
       "\n",
       "   NOMBRE_ARTICLES  VALEUR_DUM_DECLAREE  POIDS_NET  POIDS_BRUT  COD_BD  \\\n",
       "0                1              21946.0    2095.00     2095.00     100   \n",
       "1                1             125586.0    1700.00     1760.00     100   \n",
       "2                1             786673.0    4682.94     4684.25     100   \n",
       "3                4            2731389.0  123394.00   123394.00     100   \n",
       "4                3            1696083.0  131467.00   137880.00     100   \n",
       "\n",
       "   COD_RD COD_ACCORD  COD_FRANCHISE  FRAUD DECLARANT_PR  \n",
       "0       2        NaN            NaN      0            N  \n",
       "1       2        NaN            NaN      0            N  \n",
       "2       2        NaN            NaN      0            N  \n",
       "3       2        NaN            NaN      0            N  \n",
       "4       2        NaN            NaN      0            N  "
      ]
     },
     "execution_count": 8,
     "metadata": {},
     "output_type": "execute_result"
    }
   ],
   "source": [
    "df.head()"
   ]
  },
  {
   "cell_type": "code",
   "execution_count": 9,
   "metadata": {},
   "outputs": [],
   "source": [
    "df=df.rename(columns={'DECLARANT_PR':'DECLARANT_POUR_LUI_MEME'})"
   ]
  },
  {
   "cell_type": "code",
   "execution_count": 10,
   "metadata": {},
   "outputs": [
    {
     "name": "stdout",
     "output_type": "stream",
     "text": [
      "<class 'pandas.core.frame.DataFrame'>\n",
      "RangeIndex: 10025879 entries, 0 to 10025878\n",
      "Data columns (total 14 columns):\n",
      " #   Column                   Dtype  \n",
      "---  ------                   -----  \n",
      " 0   ID_DUM                   int64  \n",
      " 1   ID_TRANSITAIRE           int64  \n",
      " 2   timestamp                object \n",
      " 3   ID_OPERATEUR             int64  \n",
      " 4   NOMBRE_ARTICLES          int64  \n",
      " 5   VALEUR_DUM_DECLAREE      float64\n",
      " 6   POIDS_NET                float64\n",
      " 7   POIDS_BRUT               float64\n",
      " 8   COD_BD                   int64  \n",
      " 9   COD_RD                   int64  \n",
      " 10  COD_ACCORD               object \n",
      " 11  COD_FRANCHISE            float64\n",
      " 12  FRAUD                    int64  \n",
      " 13  DECLARANT_POUR_LUI_MEME  object \n",
      "dtypes: float64(4), int64(7), object(3)\n",
      "memory usage: 1.0+ GB\n"
     ]
    }
   ],
   "source": [
    "df.info()"
   ]
  },
  {
   "cell_type": "markdown",
   "metadata": {},
   "source": [
    "## DATA PREPROCESSING"
   ]
  },
  {
   "cell_type": "code",
   "execution_count": 11,
   "metadata": {},
   "outputs": [],
   "source": [
    "df=df.drop_duplicates()"
   ]
  },
  {
   "cell_type": "code",
   "execution_count": 12,
   "metadata": {},
   "outputs": [
    {
     "name": "stdout",
     "output_type": "stream",
     "text": [
      "<class 'pandas.core.frame.DataFrame'>\n",
      "Index: 10025865 entries, 0 to 10025878\n",
      "Data columns (total 14 columns):\n",
      " #   Column                   Dtype  \n",
      "---  ------                   -----  \n",
      " 0   ID_DUM                   int64  \n",
      " 1   ID_TRANSITAIRE           int64  \n",
      " 2   timestamp                object \n",
      " 3   ID_OPERATEUR             int64  \n",
      " 4   NOMBRE_ARTICLES          int64  \n",
      " 5   VALEUR_DUM_DECLAREE      float64\n",
      " 6   POIDS_NET                float64\n",
      " 7   POIDS_BRUT               float64\n",
      " 8   COD_BD                   int64  \n",
      " 9   COD_RD                   int64  \n",
      " 10  COD_ACCORD               object \n",
      " 11  COD_FRANCHISE            float64\n",
      " 12  FRAUD                    int64  \n",
      " 13  DECLARANT_POUR_LUI_MEME  object \n",
      "dtypes: float64(4), int64(7), object(3)\n",
      "memory usage: 1.1+ GB\n"
     ]
    }
   ],
   "source": [
    "df.info()"
   ]
  },
  {
   "cell_type": "code",
   "execution_count": 13,
   "metadata": {},
   "outputs": [
    {
     "data": {
      "text/plain": [
       "ID_DUM                           0\n",
       "ID_TRANSITAIRE                   0\n",
       "timestamp                        0\n",
       "ID_OPERATEUR                     0\n",
       "NOMBRE_ARTICLES                  0\n",
       "VALEUR_DUM_DECLAREE              4\n",
       "POIDS_NET                        0\n",
       "POIDS_BRUT                   54775\n",
       "COD_BD                           0\n",
       "COD_RD                           0\n",
       "COD_ACCORD                 7368671\n",
       "COD_FRANCHISE              9693924\n",
       "FRAUD                            0\n",
       "DECLARANT_POUR_LUI_MEME          0\n",
       "dtype: int64"
      ]
     },
     "execution_count": 13,
     "metadata": {},
     "output_type": "execute_result"
    }
   ],
   "source": [
    "df.isna().sum()"
   ]
  },
  {
   "cell_type": "code",
   "execution_count": 14,
   "metadata": {},
   "outputs": [],
   "source": [
    "del df['COD_FRANCHISE']"
   ]
  },
  {
   "cell_type": "code",
   "execution_count": 15,
   "metadata": {},
   "outputs": [],
   "source": [
    "df.dropna(subset=['POIDS_BRUT'], inplace=True)"
   ]
  },
  {
   "cell_type": "code",
   "execution_count": 16,
   "metadata": {},
   "outputs": [
    {
     "data": {
      "text/plain": [
       "ID_DUM                           0\n",
       "ID_TRANSITAIRE                   0\n",
       "timestamp                        0\n",
       "ID_OPERATEUR                     0\n",
       "NOMBRE_ARTICLES                  0\n",
       "VALEUR_DUM_DECLAREE              0\n",
       "POIDS_NET                        0\n",
       "POIDS_BRUT                       0\n",
       "COD_BD                           0\n",
       "COD_RD                           0\n",
       "COD_ACCORD                 7313896\n",
       "FRAUD                            0\n",
       "DECLARANT_POUR_LUI_MEME          0\n",
       "dtype: int64"
      ]
     },
     "execution_count": 16,
     "metadata": {},
     "output_type": "execute_result"
    }
   ],
   "source": [
    "df.isna().sum()"
   ]
  },
  {
   "cell_type": "markdown",
   "metadata": {},
   "source": [
    "### convert Date "
   ]
  },
  {
   "cell_type": "code",
   "execution_count": 17,
   "metadata": {},
   "outputs": [],
   "source": [
    "df=to_date(df,format='mixed')"
   ]
  },
  {
   "cell_type": "code",
   "execution_count": 18,
   "metadata": {},
   "outputs": [
    {
     "name": "stdout",
     "output_type": "stream",
     "text": [
      "<class 'pandas.core.frame.DataFrame'>\n",
      "Index: 9971090 entries, 0 to 10025878\n",
      "Data columns (total 15 columns):\n",
      " #   Column                   Dtype  \n",
      "---  ------                   -----  \n",
      " 0   ID_DUM                   int64  \n",
      " 1   ID_TRANSITAIRE           int64  \n",
      " 2   ID_OPERATEUR             int64  \n",
      " 3   NOMBRE_ARTICLES          int64  \n",
      " 4   VALEUR_DUM_DECLAREE      float64\n",
      " 5   POIDS_NET                float64\n",
      " 6   POIDS_BRUT               float64\n",
      " 7   COD_BD                   int64  \n",
      " 8   COD_RD                   int64  \n",
      " 9   COD_ACCORD               object \n",
      " 10  FRAUD                    int64  \n",
      " 11  DECLARANT_POUR_LUI_MEME  object \n",
      " 12  Year                     int32  \n",
      " 13  Month                    int32  \n",
      " 14  Day                      int32  \n",
      "dtypes: float64(3), int32(3), int64(7), object(2)\n",
      "memory usage: 1.1+ GB\n"
     ]
    }
   ],
   "source": [
    "df.info()"
   ]
  },
  {
   "cell_type": "code",
   "execution_count": 19,
   "metadata": {},
   "outputs": [
    {
     "data": {
      "text/plain": [
       "(9971090, 15)"
      ]
     },
     "execution_count": 19,
     "metadata": {},
     "output_type": "execute_result"
    }
   ],
   "source": [
    "df.shape"
   ]
  },
  {
   "cell_type": "code",
   "execution_count": 20,
   "metadata": {},
   "outputs": [
    {
     "data": {
      "text/html": [
       "<div>\n",
       "<style scoped>\n",
       "    .dataframe tbody tr th:only-of-type {\n",
       "        vertical-align: middle;\n",
       "    }\n",
       "\n",
       "    .dataframe tbody tr th {\n",
       "        vertical-align: top;\n",
       "    }\n",
       "\n",
       "    .dataframe thead th {\n",
       "        text-align: right;\n",
       "    }\n",
       "</style>\n",
       "<table border=\"1\" class=\"dataframe\">\n",
       "  <thead>\n",
       "    <tr style=\"text-align: right;\">\n",
       "      <th></th>\n",
       "      <th>ID_DUM</th>\n",
       "      <th>ID_TRANSITAIRE</th>\n",
       "      <th>ID_OPERATEUR</th>\n",
       "      <th>NOMBRE_ARTICLES</th>\n",
       "      <th>VALEUR_DUM_DECLAREE</th>\n",
       "      <th>POIDS_NET</th>\n",
       "      <th>POIDS_BRUT</th>\n",
       "      <th>COD_BD</th>\n",
       "      <th>COD_RD</th>\n",
       "      <th>COD_ACCORD</th>\n",
       "      <th>FRAUD</th>\n",
       "      <th>DECLARANT_POUR_LUI_MEME</th>\n",
       "      <th>Year</th>\n",
       "      <th>Month</th>\n",
       "      <th>Day</th>\n",
       "    </tr>\n",
       "  </thead>\n",
       "  <tbody>\n",
       "    <tr>\n",
       "      <th>0</th>\n",
       "      <td>14797661</td>\n",
       "      <td>1005</td>\n",
       "      <td>245324</td>\n",
       "      <td>1</td>\n",
       "      <td>21946.0</td>\n",
       "      <td>2095.00</td>\n",
       "      <td>2095.00</td>\n",
       "      <td>100</td>\n",
       "      <td>2</td>\n",
       "      <td>NaN</td>\n",
       "      <td>0</td>\n",
       "      <td>N</td>\n",
       "      <td>2014</td>\n",
       "      <td>2</td>\n",
       "      <td>10</td>\n",
       "    </tr>\n",
       "    <tr>\n",
       "      <th>1</th>\n",
       "      <td>15289810</td>\n",
       "      <td>2001</td>\n",
       "      <td>249725</td>\n",
       "      <td>1</td>\n",
       "      <td>125586.0</td>\n",
       "      <td>1700.00</td>\n",
       "      <td>1760.00</td>\n",
       "      <td>100</td>\n",
       "      <td>2</td>\n",
       "      <td>NaN</td>\n",
       "      <td>0</td>\n",
       "      <td>N</td>\n",
       "      <td>2014</td>\n",
       "      <td>8</td>\n",
       "      <td>1</td>\n",
       "    </tr>\n",
       "    <tr>\n",
       "      <th>2</th>\n",
       "      <td>15345977</td>\n",
       "      <td>1005</td>\n",
       "      <td>247286</td>\n",
       "      <td>1</td>\n",
       "      <td>786673.0</td>\n",
       "      <td>4682.94</td>\n",
       "      <td>4684.25</td>\n",
       "      <td>100</td>\n",
       "      <td>2</td>\n",
       "      <td>NaN</td>\n",
       "      <td>0</td>\n",
       "      <td>N</td>\n",
       "      <td>2014</td>\n",
       "      <td>9</td>\n",
       "      <td>4</td>\n",
       "    </tr>\n",
       "    <tr>\n",
       "      <th>3</th>\n",
       "      <td>15477796</td>\n",
       "      <td>1075</td>\n",
       "      <td>1109</td>\n",
       "      <td>4</td>\n",
       "      <td>2731389.0</td>\n",
       "      <td>123394.00</td>\n",
       "      <td>123394.00</td>\n",
       "      <td>100</td>\n",
       "      <td>2</td>\n",
       "      <td>NaN</td>\n",
       "      <td>0</td>\n",
       "      <td>N</td>\n",
       "      <td>2014</td>\n",
       "      <td>10</td>\n",
       "      <td>21</td>\n",
       "    </tr>\n",
       "    <tr>\n",
       "      <th>4</th>\n",
       "      <td>17150681</td>\n",
       "      <td>11587</td>\n",
       "      <td>258062</td>\n",
       "      <td>3</td>\n",
       "      <td>1696083.0</td>\n",
       "      <td>131467.00</td>\n",
       "      <td>137880.00</td>\n",
       "      <td>100</td>\n",
       "      <td>2</td>\n",
       "      <td>NaN</td>\n",
       "      <td>0</td>\n",
       "      <td>N</td>\n",
       "      <td>2016</td>\n",
       "      <td>1</td>\n",
       "      <td>15</td>\n",
       "    </tr>\n",
       "  </tbody>\n",
       "</table>\n",
       "</div>"
      ],
      "text/plain": [
       "     ID_DUM  ID_TRANSITAIRE  ID_OPERATEUR  NOMBRE_ARTICLES  \\\n",
       "0  14797661            1005        245324                1   \n",
       "1  15289810            2001        249725                1   \n",
       "2  15345977            1005        247286                1   \n",
       "3  15477796            1075          1109                4   \n",
       "4  17150681           11587        258062                3   \n",
       "\n",
       "   VALEUR_DUM_DECLAREE  POIDS_NET  POIDS_BRUT  COD_BD  COD_RD COD_ACCORD  \\\n",
       "0              21946.0    2095.00     2095.00     100       2        NaN   \n",
       "1             125586.0    1700.00     1760.00     100       2        NaN   \n",
       "2             786673.0    4682.94     4684.25     100       2        NaN   \n",
       "3            2731389.0  123394.00   123394.00     100       2        NaN   \n",
       "4            1696083.0  131467.00   137880.00     100       2        NaN   \n",
       "\n",
       "   FRAUD DECLARANT_POUR_LUI_MEME  Year  Month  Day  \n",
       "0      0                       N  2014      2   10  \n",
       "1      0                       N  2014      8    1  \n",
       "2      0                       N  2014      9    4  \n",
       "3      0                       N  2014     10   21  \n",
       "4      0                       N  2016      1   15  "
      ]
     },
     "execution_count": 20,
     "metadata": {},
     "output_type": "execute_result"
    }
   ],
   "source": [
    "df.head()"
   ]
  },
  {
   "cell_type": "code",
   "execution_count": 21,
   "metadata": {},
   "outputs": [
    {
     "data": {
      "text/plain": [
       "ID_DUM    ID_TRANSITAIRE  ID_OPERATEUR  NOMBRE_ARTICLES  VALEUR_DUM_DECLAREE  POIDS_NET  POIDS_BRUT  COD_BD  COD_RD  COD_ACCORD  FRAUD  DECLARANT_POUR_LUI_MEME  Year  Month  Day\n",
       "17030172  174681          15956         2                1205314.00           10960.00   13640.0     309     10      TR          0      N                        2016  1      4      1\n",
       "18320342  1250            3460          5                214121.00            6870.16    7501.0      301     10      UE          0      N                        2016  8      25     1\n",
       "18320217  1236            4106          5                34173.00             40.00      42.6        301     10      UE          0      N                        2016  8      25     1\n",
       "18320218  48249           16762         1                1172.00              0.68       1.0         301     10      USA         0      N                        2016  8      26     1\n",
       "18320219  1086            4595          1                3846.00              0.40       1.0         301     10      UE          0      N                        2016  8      25     1\n",
       "                                                                                                                                                                                    ..\n",
       "17689837  0               5121          1                154907.80            10000.00   10104.0     309     74      UE          0      O                        2016  4      27     1\n",
       "17689841  0               3329          1                36076.00             6.70       7.0         300     10      UE          0      O                        2016  4      27     1\n",
       "17689852  80433           274750        2                82440.00             1792.80    1792.8      411     10      TR          0      N                        2016  4      28     1\n",
       "17689858  225104          29234         1                2919.00              2.00       3.0         301     10      UE          0      N                        2016  4      28     1\n",
       "18990057  11504           288117        2                310307.16            6108.00    8551.2      411     60      UE          0      N                        2016  12     31     1\n",
       "Name: count, Length: 248132, dtype: int64"
      ]
     },
     "execution_count": 21,
     "metadata": {},
     "output_type": "execute_result"
    }
   ],
   "source": [
    "df[df['Year'] == 2016].value_counts()"
   ]
  },
  {
   "cell_type": "code",
   "execution_count": 22,
   "metadata": {},
   "outputs": [],
   "source": [
    "df = df[df['Year'] >= 2016]"
   ]
  },
  {
   "cell_type": "code",
   "execution_count": 23,
   "metadata": {},
   "outputs": [
    {
     "data": {
      "text/plain": [
       "Year\n",
       "2022    1811865\n",
       "2021    1460099\n",
       "2019    1090806\n",
       "2018    1035027\n",
       "2017     974753\n",
       "2020     971533\n",
       "2016     916165\n",
       "Name: count, dtype: int64"
      ]
     },
     "execution_count": 23,
     "metadata": {},
     "output_type": "execute_result"
    }
   ],
   "source": [
    "df['Year'].value_counts()"
   ]
  },
  {
   "cell_type": "code",
   "execution_count": 24,
   "metadata": {},
   "outputs": [
    {
     "data": {
      "text/plain": [
       "(8260248, 15)"
      ]
     },
     "execution_count": 24,
     "metadata": {},
     "output_type": "execute_result"
    }
   ],
   "source": [
    "df.shape"
   ]
  },
  {
   "cell_type": "markdown",
   "metadata": {},
   "source": [
    "### convert categorical"
   ]
  },
  {
   "cell_type": "code",
   "execution_count": 25,
   "metadata": {},
   "outputs": [],
   "source": [
    "from sklearn.preprocessing import LabelEncoder\n",
    "\n",
    "LabelEncoder=LabelEncoder()\n",
    "df['DECLARANT_POUR_LUI_MEME']=LabelEncoder.fit_transform(df['DECLARANT_POUR_LUI_MEME'])\n",
    "df['COD_ACCORD']=LabelEncoder.fit_transform(df['COD_ACCORD'])"
   ]
  },
  {
   "cell_type": "code",
   "execution_count": 26,
   "metadata": {},
   "outputs": [
    {
     "data": {
      "text/html": [
       "<div>\n",
       "<style scoped>\n",
       "    .dataframe tbody tr th:only-of-type {\n",
       "        vertical-align: middle;\n",
       "    }\n",
       "\n",
       "    .dataframe tbody tr th {\n",
       "        vertical-align: top;\n",
       "    }\n",
       "\n",
       "    .dataframe thead th {\n",
       "        text-align: right;\n",
       "    }\n",
       "</style>\n",
       "<table border=\"1\" class=\"dataframe\">\n",
       "  <thead>\n",
       "    <tr style=\"text-align: right;\">\n",
       "      <th></th>\n",
       "      <th>ID_DUM</th>\n",
       "      <th>ID_TRANSITAIRE</th>\n",
       "      <th>ID_OPERATEUR</th>\n",
       "      <th>NOMBRE_ARTICLES</th>\n",
       "      <th>VALEUR_DUM_DECLAREE</th>\n",
       "      <th>POIDS_NET</th>\n",
       "      <th>POIDS_BRUT</th>\n",
       "      <th>COD_BD</th>\n",
       "      <th>COD_RD</th>\n",
       "      <th>COD_ACCORD</th>\n",
       "      <th>FRAUD</th>\n",
       "      <th>DECLARANT_POUR_LUI_MEME</th>\n",
       "      <th>Year</th>\n",
       "      <th>Month</th>\n",
       "      <th>Day</th>\n",
       "    </tr>\n",
       "  </thead>\n",
       "  <tbody>\n",
       "    <tr>\n",
       "      <th>4</th>\n",
       "      <td>17150681</td>\n",
       "      <td>11587</td>\n",
       "      <td>258062</td>\n",
       "      <td>3</td>\n",
       "      <td>1696083.0</td>\n",
       "      <td>131467.0</td>\n",
       "      <td>137880.0</td>\n",
       "      <td>100</td>\n",
       "      <td>2</td>\n",
       "      <td>19</td>\n",
       "      <td>0</td>\n",
       "      <td>0</td>\n",
       "      <td>2016</td>\n",
       "      <td>1</td>\n",
       "      <td>15</td>\n",
       "    </tr>\n",
       "    <tr>\n",
       "      <th>5</th>\n",
       "      <td>18249526</td>\n",
       "      <td>44584</td>\n",
       "      <td>13864</td>\n",
       "      <td>1</td>\n",
       "      <td>825795.0</td>\n",
       "      <td>7800.0</td>\n",
       "      <td>7800.0</td>\n",
       "      <td>100</td>\n",
       "      <td>2</td>\n",
       "      <td>16</td>\n",
       "      <td>0</td>\n",
       "      <td>0</td>\n",
       "      <td>2016</td>\n",
       "      <td>8</td>\n",
       "      <td>15</td>\n",
       "    </tr>\n",
       "    <tr>\n",
       "      <th>6</th>\n",
       "      <td>18917624</td>\n",
       "      <td>11554</td>\n",
       "      <td>1002</td>\n",
       "      <td>1</td>\n",
       "      <td>62633.0</td>\n",
       "      <td>1200.0</td>\n",
       "      <td>1300.0</td>\n",
       "      <td>100</td>\n",
       "      <td>2</td>\n",
       "      <td>19</td>\n",
       "      <td>0</td>\n",
       "      <td>0</td>\n",
       "      <td>2016</td>\n",
       "      <td>12</td>\n",
       "      <td>19</td>\n",
       "    </tr>\n",
       "    <tr>\n",
       "      <th>7</th>\n",
       "      <td>19242382</td>\n",
       "      <td>1007</td>\n",
       "      <td>9295</td>\n",
       "      <td>1</td>\n",
       "      <td>643438.0</td>\n",
       "      <td>53660.0</td>\n",
       "      <td>53660.0</td>\n",
       "      <td>100</td>\n",
       "      <td>2</td>\n",
       "      <td>10</td>\n",
       "      <td>0</td>\n",
       "      <td>0</td>\n",
       "      <td>2017</td>\n",
       "      <td>2</td>\n",
       "      <td>17</td>\n",
       "    </tr>\n",
       "    <tr>\n",
       "      <th>8</th>\n",
       "      <td>19417229</td>\n",
       "      <td>11554</td>\n",
       "      <td>1002</td>\n",
       "      <td>1</td>\n",
       "      <td>18554636.0</td>\n",
       "      <td>3390575.0</td>\n",
       "      <td>3500000.0</td>\n",
       "      <td>100</td>\n",
       "      <td>2</td>\n",
       "      <td>19</td>\n",
       "      <td>0</td>\n",
       "      <td>0</td>\n",
       "      <td>2017</td>\n",
       "      <td>3</td>\n",
       "      <td>21</td>\n",
       "    </tr>\n",
       "  </tbody>\n",
       "</table>\n",
       "</div>"
      ],
      "text/plain": [
       "     ID_DUM  ID_TRANSITAIRE  ID_OPERATEUR  NOMBRE_ARTICLES  \\\n",
       "4  17150681           11587        258062                3   \n",
       "5  18249526           44584         13864                1   \n",
       "6  18917624           11554          1002                1   \n",
       "7  19242382            1007          9295                1   \n",
       "8  19417229           11554          1002                1   \n",
       "\n",
       "   VALEUR_DUM_DECLAREE  POIDS_NET  POIDS_BRUT  COD_BD  COD_RD  COD_ACCORD  \\\n",
       "4            1696083.0   131467.0    137880.0     100       2          19   \n",
       "5             825795.0     7800.0      7800.0     100       2          16   \n",
       "6              62633.0     1200.0      1300.0     100       2          19   \n",
       "7             643438.0    53660.0     53660.0     100       2          10   \n",
       "8           18554636.0  3390575.0   3500000.0     100       2          19   \n",
       "\n",
       "   FRAUD  DECLARANT_POUR_LUI_MEME  Year  Month  Day  \n",
       "4      0                        0  2016      1   15  \n",
       "5      0                        0  2016      8   15  \n",
       "6      0                        0  2016     12   19  \n",
       "7      0                        0  2017      2   17  \n",
       "8      0                        0  2017      3   21  "
      ]
     },
     "execution_count": 26,
     "metadata": {},
     "output_type": "execute_result"
    }
   ],
   "source": [
    "df.head()"
   ]
  },
  {
   "cell_type": "code",
   "execution_count": 27,
   "metadata": {},
   "outputs": [],
   "source": [
    "df=risk_op(df)"
   ]
  },
  {
   "cell_type": "code",
   "execution_count": 28,
   "metadata": {},
   "outputs": [
    {
     "data": {
      "text/html": [
       "<div>\n",
       "<style scoped>\n",
       "    .dataframe tbody tr th:only-of-type {\n",
       "        vertical-align: middle;\n",
       "    }\n",
       "\n",
       "    .dataframe tbody tr th {\n",
       "        vertical-align: top;\n",
       "    }\n",
       "\n",
       "    .dataframe thead th {\n",
       "        text-align: right;\n",
       "    }\n",
       "</style>\n",
       "<table border=\"1\" class=\"dataframe\">\n",
       "  <thead>\n",
       "    <tr style=\"text-align: right;\">\n",
       "      <th></th>\n",
       "      <th>ID_DUM</th>\n",
       "      <th>ID_TRANSITAIRE</th>\n",
       "      <th>ID_OPERATEUR</th>\n",
       "      <th>NOMBRE_ARTICLES</th>\n",
       "      <th>VALEUR_DUM_DECLAREE</th>\n",
       "      <th>POIDS_NET</th>\n",
       "      <th>POIDS_BRUT</th>\n",
       "      <th>COD_BD</th>\n",
       "      <th>COD_RD</th>\n",
       "      <th>COD_ACCORD</th>\n",
       "      <th>FRAUD</th>\n",
       "      <th>DECLARANT_POUR_LUI_MEME</th>\n",
       "      <th>Year</th>\n",
       "      <th>Month</th>\n",
       "      <th>Day</th>\n",
       "      <th>RISK_OP</th>\n",
       "    </tr>\n",
       "  </thead>\n",
       "  <tbody>\n",
       "    <tr>\n",
       "      <th>4</th>\n",
       "      <td>17150681</td>\n",
       "      <td>11587</td>\n",
       "      <td>258062</td>\n",
       "      <td>3</td>\n",
       "      <td>1696083.0</td>\n",
       "      <td>131467.0</td>\n",
       "      <td>137880.0</td>\n",
       "      <td>100</td>\n",
       "      <td>2</td>\n",
       "      <td>19</td>\n",
       "      <td>0</td>\n",
       "      <td>0</td>\n",
       "      <td>2016</td>\n",
       "      <td>1</td>\n",
       "      <td>15</td>\n",
       "      <td>0</td>\n",
       "    </tr>\n",
       "    <tr>\n",
       "      <th>5</th>\n",
       "      <td>18249526</td>\n",
       "      <td>44584</td>\n",
       "      <td>13864</td>\n",
       "      <td>1</td>\n",
       "      <td>825795.0</td>\n",
       "      <td>7800.0</td>\n",
       "      <td>7800.0</td>\n",
       "      <td>100</td>\n",
       "      <td>2</td>\n",
       "      <td>16</td>\n",
       "      <td>0</td>\n",
       "      <td>0</td>\n",
       "      <td>2016</td>\n",
       "      <td>8</td>\n",
       "      <td>15</td>\n",
       "      <td>0</td>\n",
       "    </tr>\n",
       "    <tr>\n",
       "      <th>6</th>\n",
       "      <td>18917624</td>\n",
       "      <td>11554</td>\n",
       "      <td>1002</td>\n",
       "      <td>1</td>\n",
       "      <td>62633.0</td>\n",
       "      <td>1200.0</td>\n",
       "      <td>1300.0</td>\n",
       "      <td>100</td>\n",
       "      <td>2</td>\n",
       "      <td>19</td>\n",
       "      <td>0</td>\n",
       "      <td>0</td>\n",
       "      <td>2016</td>\n",
       "      <td>12</td>\n",
       "      <td>19</td>\n",
       "      <td>0</td>\n",
       "    </tr>\n",
       "    <tr>\n",
       "      <th>7</th>\n",
       "      <td>19242382</td>\n",
       "      <td>1007</td>\n",
       "      <td>9295</td>\n",
       "      <td>1</td>\n",
       "      <td>643438.0</td>\n",
       "      <td>53660.0</td>\n",
       "      <td>53660.0</td>\n",
       "      <td>100</td>\n",
       "      <td>2</td>\n",
       "      <td>10</td>\n",
       "      <td>0</td>\n",
       "      <td>0</td>\n",
       "      <td>2017</td>\n",
       "      <td>2</td>\n",
       "      <td>17</td>\n",
       "      <td>0</td>\n",
       "    </tr>\n",
       "    <tr>\n",
       "      <th>8</th>\n",
       "      <td>19417229</td>\n",
       "      <td>11554</td>\n",
       "      <td>1002</td>\n",
       "      <td>1</td>\n",
       "      <td>18554636.0</td>\n",
       "      <td>3390575.0</td>\n",
       "      <td>3500000.0</td>\n",
       "      <td>100</td>\n",
       "      <td>2</td>\n",
       "      <td>19</td>\n",
       "      <td>0</td>\n",
       "      <td>0</td>\n",
       "      <td>2017</td>\n",
       "      <td>3</td>\n",
       "      <td>21</td>\n",
       "      <td>0</td>\n",
       "    </tr>\n",
       "  </tbody>\n",
       "</table>\n",
       "</div>"
      ],
      "text/plain": [
       "     ID_DUM  ID_TRANSITAIRE  ID_OPERATEUR  NOMBRE_ARTICLES  \\\n",
       "4  17150681           11587        258062                3   \n",
       "5  18249526           44584         13864                1   \n",
       "6  18917624           11554          1002                1   \n",
       "7  19242382            1007          9295                1   \n",
       "8  19417229           11554          1002                1   \n",
       "\n",
       "   VALEUR_DUM_DECLAREE  POIDS_NET  POIDS_BRUT  COD_BD  COD_RD  COD_ACCORD  \\\n",
       "4            1696083.0   131467.0    137880.0     100       2          19   \n",
       "5             825795.0     7800.0      7800.0     100       2          16   \n",
       "6              62633.0     1200.0      1300.0     100       2          19   \n",
       "7             643438.0    53660.0     53660.0     100       2          10   \n",
       "8           18554636.0  3390575.0   3500000.0     100       2          19   \n",
       "\n",
       "   FRAUD  DECLARANT_POUR_LUI_MEME  Year  Month  Day  RISK_OP  \n",
       "4      0                        0  2016      1   15        0  \n",
       "5      0                        0  2016      8   15        0  \n",
       "6      0                        0  2016     12   19        0  \n",
       "7      0                        0  2017      2   17        0  \n",
       "8      0                        0  2017      3   21        0  "
      ]
     },
     "execution_count": 28,
     "metadata": {},
     "output_type": "execute_result"
    }
   ],
   "source": [
    "df.head()"
   ]
  },
  {
   "cell_type": "code",
   "execution_count": 29,
   "metadata": {},
   "outputs": [],
   "source": [
    "df=risk_tr(df)"
   ]
  },
  {
   "cell_type": "code",
   "execution_count": 30,
   "metadata": {},
   "outputs": [
    {
     "name": "stdout",
     "output_type": "stream",
     "text": [
      "<class 'pandas.core.frame.DataFrame'>\n",
      "Index: 8260248 entries, 4 to 10025878\n",
      "Data columns (total 17 columns):\n",
      " #   Column                   Dtype  \n",
      "---  ------                   -----  \n",
      " 0   ID_DUM                   int64  \n",
      " 1   ID_TRANSITAIRE           int64  \n",
      " 2   ID_OPERATEUR             int64  \n",
      " 3   NOMBRE_ARTICLES          int64  \n",
      " 4   VALEUR_DUM_DECLAREE      float64\n",
      " 5   POIDS_NET                float64\n",
      " 6   POIDS_BRUT               float64\n",
      " 7   COD_BD                   int64  \n",
      " 8   COD_RD                   int64  \n",
      " 9   COD_ACCORD               int32  \n",
      " 10  FRAUD                    int64  \n",
      " 11  DECLARANT_POUR_LUI_MEME  int32  \n",
      " 12  Year                     int32  \n",
      " 13  Month                    int32  \n",
      " 14  Day                      int32  \n",
      " 15  RISK_OP                  int32  \n",
      " 16  RISK_tr                  int32  \n",
      "dtypes: float64(3), int32(7), int64(7)\n",
      "memory usage: 913.8 MB\n"
     ]
    }
   ],
   "source": [
    "df.info()"
   ]
  },
  {
   "cell_type": "code",
   "execution_count": 31,
   "metadata": {},
   "outputs": [],
   "source": [
    "df2=df.copy()"
   ]
  },
  {
   "cell_type": "code",
   "execution_count": 32,
   "metadata": {},
   "outputs": [
    {
     "data": {
      "text/html": [
       "<div>\n",
       "<style scoped>\n",
       "    .dataframe tbody tr th:only-of-type {\n",
       "        vertical-align: middle;\n",
       "    }\n",
       "\n",
       "    .dataframe tbody tr th {\n",
       "        vertical-align: top;\n",
       "    }\n",
       "\n",
       "    .dataframe thead th {\n",
       "        text-align: right;\n",
       "    }\n",
       "</style>\n",
       "<table border=\"1\" class=\"dataframe\">\n",
       "  <thead>\n",
       "    <tr style=\"text-align: right;\">\n",
       "      <th></th>\n",
       "      <th>ID_DUM</th>\n",
       "      <th>ID_TRANSITAIRE</th>\n",
       "      <th>ID_OPERATEUR</th>\n",
       "      <th>NOMBRE_ARTICLES</th>\n",
       "      <th>VALEUR_DUM_DECLAREE</th>\n",
       "      <th>POIDS_NET</th>\n",
       "      <th>POIDS_BRUT</th>\n",
       "      <th>COD_BD</th>\n",
       "      <th>COD_RD</th>\n",
       "      <th>COD_ACCORD</th>\n",
       "      <th>DECLARANT_POUR_LUI_MEME</th>\n",
       "      <th>Year</th>\n",
       "      <th>Month</th>\n",
       "      <th>Day</th>\n",
       "      <th>RISK_OP</th>\n",
       "      <th>RISK_tr</th>\n",
       "    </tr>\n",
       "  </thead>\n",
       "  <tbody>\n",
       "    <tr>\n",
       "      <th>4</th>\n",
       "      <td>-1.715781</td>\n",
       "      <td>-0.307328</td>\n",
       "      <td>0.718167</td>\n",
       "      <td>0.007378</td>\n",
       "      <td>0.103869</td>\n",
       "      <td>0.060439</td>\n",
       "      <td>0.022110</td>\n",
       "      <td>-2.911485</td>\n",
       "      <td>-0.582954</td>\n",
       "      <td>0.463808</td>\n",
       "      <td>0</td>\n",
       "      <td>-1.675178</td>\n",
       "      <td>-1.616045</td>\n",
       "      <td>-0.101445</td>\n",
       "      <td>0</td>\n",
       "      <td>0</td>\n",
       "    </tr>\n",
       "    <tr>\n",
       "      <th>5</th>\n",
       "      <td>-1.498903</td>\n",
       "      <td>0.015349</td>\n",
       "      <td>-0.644754</td>\n",
       "      <td>-0.223642</td>\n",
       "      <td>0.016271</td>\n",
       "      <td>-0.038403</td>\n",
       "      <td>-0.015002</td>\n",
       "      <td>-2.911485</td>\n",
       "      <td>-0.582954</td>\n",
       "      <td>-0.970663</td>\n",
       "      <td>0</td>\n",
       "      <td>-1.675178</td>\n",
       "      <td>0.401598</td>\n",
       "      <td>-0.101445</td>\n",
       "      <td>0</td>\n",
       "      <td>0</td>\n",
       "    </tr>\n",
       "    <tr>\n",
       "      <th>6</th>\n",
       "      <td>-1.367041</td>\n",
       "      <td>-0.307651</td>\n",
       "      <td>-0.716539</td>\n",
       "      <td>-0.223642</td>\n",
       "      <td>-0.060543</td>\n",
       "      <td>-0.043678</td>\n",
       "      <td>-0.016856</td>\n",
       "      <td>-2.911485</td>\n",
       "      <td>-0.582954</td>\n",
       "      <td>0.463808</td>\n",
       "      <td>0</td>\n",
       "      <td>-1.675178</td>\n",
       "      <td>1.554537</td>\n",
       "      <td>0.355546</td>\n",
       "      <td>0</td>\n",
       "      <td>0</td>\n",
       "    </tr>\n",
       "    <tr>\n",
       "      <th>7</th>\n",
       "      <td>-1.302944</td>\n",
       "      <td>-0.410790</td>\n",
       "      <td>-0.670254</td>\n",
       "      <td>-0.223642</td>\n",
       "      <td>-0.002083</td>\n",
       "      <td>-0.001749</td>\n",
       "      <td>-0.001918</td>\n",
       "      <td>-2.911485</td>\n",
       "      <td>-0.582954</td>\n",
       "      <td>-3.839605</td>\n",
       "      <td>0</td>\n",
       "      <td>-1.187518</td>\n",
       "      <td>-1.327811</td>\n",
       "      <td>0.127050</td>\n",
       "      <td>0</td>\n",
       "      <td>0</td>\n",
       "    </tr>\n",
       "    <tr>\n",
       "      <th>8</th>\n",
       "      <td>-1.268435</td>\n",
       "      <td>-0.307651</td>\n",
       "      <td>-0.716539</td>\n",
       "      <td>-0.223642</td>\n",
       "      <td>1.800737</td>\n",
       "      <td>2.665306</td>\n",
       "      <td>0.981324</td>\n",
       "      <td>-2.911485</td>\n",
       "      <td>-0.582954</td>\n",
       "      <td>0.463808</td>\n",
       "      <td>0</td>\n",
       "      <td>-1.187518</td>\n",
       "      <td>-1.039576</td>\n",
       "      <td>0.584041</td>\n",
       "      <td>0</td>\n",
       "      <td>0</td>\n",
       "    </tr>\n",
       "  </tbody>\n",
       "</table>\n",
       "</div>"
      ],
      "text/plain": [
       "     ID_DUM  ID_TRANSITAIRE  ID_OPERATEUR  NOMBRE_ARTICLES  \\\n",
       "4 -1.715781       -0.307328      0.718167         0.007378   \n",
       "5 -1.498903        0.015349     -0.644754        -0.223642   \n",
       "6 -1.367041       -0.307651     -0.716539        -0.223642   \n",
       "7 -1.302944       -0.410790     -0.670254        -0.223642   \n",
       "8 -1.268435       -0.307651     -0.716539        -0.223642   \n",
       "\n",
       "   VALEUR_DUM_DECLAREE  POIDS_NET  POIDS_BRUT    COD_BD    COD_RD  COD_ACCORD  \\\n",
       "4             0.103869   0.060439    0.022110 -2.911485 -0.582954    0.463808   \n",
       "5             0.016271  -0.038403   -0.015002 -2.911485 -0.582954   -0.970663   \n",
       "6            -0.060543  -0.043678   -0.016856 -2.911485 -0.582954    0.463808   \n",
       "7            -0.002083  -0.001749   -0.001918 -2.911485 -0.582954   -3.839605   \n",
       "8             1.800737   2.665306    0.981324 -2.911485 -0.582954    0.463808   \n",
       "\n",
       "   DECLARANT_POUR_LUI_MEME      Year     Month       Day  RISK_OP  RISK_tr  \n",
       "4                        0 -1.675178 -1.616045 -0.101445        0        0  \n",
       "5                        0 -1.675178  0.401598 -0.101445        0        0  \n",
       "6                        0 -1.675178  1.554537  0.355546        0        0  \n",
       "7                        0 -1.187518 -1.327811  0.127050        0        0  \n",
       "8                        0 -1.187518 -1.039576  0.584041        0        0  "
      ]
     },
     "execution_count": 32,
     "metadata": {},
     "output_type": "execute_result"
    }
   ],
   "source": [
    "#Normalization\n",
    "y_all = df.pop('FRAUD') \n",
    "\n",
    "cols=['ID_DUM','ID_TRANSITAIRE','ID_OPERATEUR','NOMBRE_ARTICLES','VALEUR_DUM_DECLAREE','POIDS_NET','POIDS_BRUT','COD_BD','COD_RD','COD_ACCORD','Year','Month','Day']\n",
    "numerical_cols = df[cols]\n",
    "\n",
    "df[numerical_cols.columns] = (numerical_cols - numerical_cols.mean()) / numerical_cols.std()\n",
    "\n",
    "df.head()\n"
   ]
  },
  {
   "cell_type": "code",
   "execution_count": 33,
   "metadata": {},
   "outputs": [],
   "source": [
    "df['FRAUD']=y_all"
   ]
  },
  {
   "cell_type": "code",
   "execution_count": 34,
   "metadata": {},
   "outputs": [
    {
     "data": {
      "text/plain": [
       "ID_DUM                     0\n",
       "ID_TRANSITAIRE             0\n",
       "ID_OPERATEUR               0\n",
       "NOMBRE_ARTICLES            0\n",
       "VALEUR_DUM_DECLAREE        0\n",
       "POIDS_NET                  0\n",
       "POIDS_BRUT                 0\n",
       "COD_BD                     0\n",
       "COD_RD                     0\n",
       "COD_ACCORD                 0\n",
       "DECLARANT_POUR_LUI_MEME    0\n",
       "Year                       0\n",
       "Month                      0\n",
       "Day                        0\n",
       "RISK_OP                    0\n",
       "RISK_tr                    0\n",
       "FRAUD                      0\n",
       "dtype: int64"
      ]
     },
     "execution_count": 34,
     "metadata": {},
     "output_type": "execute_result"
    }
   ],
   "source": [
    "df.isnull().sum()"
   ]
  },
  {
   "cell_type": "markdown",
   "metadata": {},
   "source": [
    "# AUTOENCODER V01 on the new data"
   ]
  },
  {
   "cell_type": "code",
   "execution_count": 35,
   "metadata": {},
   "outputs": [],
   "source": [
    "from sklearn.preprocessing import StandardScaler\n",
    "from sklearn.model_selection import train_test_split"
   ]
  },
  {
   "cell_type": "code",
   "execution_count": 36,
   "metadata": {},
   "outputs": [
    {
     "data": {
      "text/html": [
       "<div>\n",
       "<style scoped>\n",
       "    .dataframe tbody tr th:only-of-type {\n",
       "        vertical-align: middle;\n",
       "    }\n",
       "\n",
       "    .dataframe tbody tr th {\n",
       "        vertical-align: top;\n",
       "    }\n",
       "\n",
       "    .dataframe thead th {\n",
       "        text-align: right;\n",
       "    }\n",
       "</style>\n",
       "<table border=\"1\" class=\"dataframe\">\n",
       "  <thead>\n",
       "    <tr style=\"text-align: right;\">\n",
       "      <th></th>\n",
       "      <th>ID_DUM</th>\n",
       "      <th>ID_TRANSITAIRE</th>\n",
       "      <th>ID_OPERATEUR</th>\n",
       "      <th>NOMBRE_ARTICLES</th>\n",
       "      <th>VALEUR_DUM_DECLAREE</th>\n",
       "      <th>POIDS_NET</th>\n",
       "      <th>POIDS_BRUT</th>\n",
       "      <th>COD_BD</th>\n",
       "      <th>COD_RD</th>\n",
       "      <th>COD_ACCORD</th>\n",
       "      <th>DECLARANT_POUR_LUI_MEME</th>\n",
       "      <th>Year</th>\n",
       "      <th>Month</th>\n",
       "      <th>Day</th>\n",
       "      <th>RISK_OP</th>\n",
       "      <th>RISK_tr</th>\n",
       "      <th>FRAUD</th>\n",
       "    </tr>\n",
       "  </thead>\n",
       "  <tbody>\n",
       "    <tr>\n",
       "      <th>4</th>\n",
       "      <td>-1.715781</td>\n",
       "      <td>-0.307328</td>\n",
       "      <td>0.718167</td>\n",
       "      <td>0.007378</td>\n",
       "      <td>0.103869</td>\n",
       "      <td>0.060439</td>\n",
       "      <td>0.022110</td>\n",
       "      <td>-2.911485</td>\n",
       "      <td>-0.582954</td>\n",
       "      <td>0.463808</td>\n",
       "      <td>0</td>\n",
       "      <td>-1.675178</td>\n",
       "      <td>-1.616045</td>\n",
       "      <td>-0.101445</td>\n",
       "      <td>0</td>\n",
       "      <td>0</td>\n",
       "      <td>0</td>\n",
       "    </tr>\n",
       "    <tr>\n",
       "      <th>5</th>\n",
       "      <td>-1.498903</td>\n",
       "      <td>0.015349</td>\n",
       "      <td>-0.644754</td>\n",
       "      <td>-0.223642</td>\n",
       "      <td>0.016271</td>\n",
       "      <td>-0.038403</td>\n",
       "      <td>-0.015002</td>\n",
       "      <td>-2.911485</td>\n",
       "      <td>-0.582954</td>\n",
       "      <td>-0.970663</td>\n",
       "      <td>0</td>\n",
       "      <td>-1.675178</td>\n",
       "      <td>0.401598</td>\n",
       "      <td>-0.101445</td>\n",
       "      <td>0</td>\n",
       "      <td>0</td>\n",
       "      <td>0</td>\n",
       "    </tr>\n",
       "    <tr>\n",
       "      <th>6</th>\n",
       "      <td>-1.367041</td>\n",
       "      <td>-0.307651</td>\n",
       "      <td>-0.716539</td>\n",
       "      <td>-0.223642</td>\n",
       "      <td>-0.060543</td>\n",
       "      <td>-0.043678</td>\n",
       "      <td>-0.016856</td>\n",
       "      <td>-2.911485</td>\n",
       "      <td>-0.582954</td>\n",
       "      <td>0.463808</td>\n",
       "      <td>0</td>\n",
       "      <td>-1.675178</td>\n",
       "      <td>1.554537</td>\n",
       "      <td>0.355546</td>\n",
       "      <td>0</td>\n",
       "      <td>0</td>\n",
       "      <td>0</td>\n",
       "    </tr>\n",
       "    <tr>\n",
       "      <th>7</th>\n",
       "      <td>-1.302944</td>\n",
       "      <td>-0.410790</td>\n",
       "      <td>-0.670254</td>\n",
       "      <td>-0.223642</td>\n",
       "      <td>-0.002083</td>\n",
       "      <td>-0.001749</td>\n",
       "      <td>-0.001918</td>\n",
       "      <td>-2.911485</td>\n",
       "      <td>-0.582954</td>\n",
       "      <td>-3.839605</td>\n",
       "      <td>0</td>\n",
       "      <td>-1.187518</td>\n",
       "      <td>-1.327811</td>\n",
       "      <td>0.127050</td>\n",
       "      <td>0</td>\n",
       "      <td>0</td>\n",
       "      <td>0</td>\n",
       "    </tr>\n",
       "    <tr>\n",
       "      <th>8</th>\n",
       "      <td>-1.268435</td>\n",
       "      <td>-0.307651</td>\n",
       "      <td>-0.716539</td>\n",
       "      <td>-0.223642</td>\n",
       "      <td>1.800737</td>\n",
       "      <td>2.665306</td>\n",
       "      <td>0.981324</td>\n",
       "      <td>-2.911485</td>\n",
       "      <td>-0.582954</td>\n",
       "      <td>0.463808</td>\n",
       "      <td>0</td>\n",
       "      <td>-1.187518</td>\n",
       "      <td>-1.039576</td>\n",
       "      <td>0.584041</td>\n",
       "      <td>0</td>\n",
       "      <td>0</td>\n",
       "      <td>0</td>\n",
       "    </tr>\n",
       "  </tbody>\n",
       "</table>\n",
       "</div>"
      ],
      "text/plain": [
       "     ID_DUM  ID_TRANSITAIRE  ID_OPERATEUR  NOMBRE_ARTICLES  \\\n",
       "4 -1.715781       -0.307328      0.718167         0.007378   \n",
       "5 -1.498903        0.015349     -0.644754        -0.223642   \n",
       "6 -1.367041       -0.307651     -0.716539        -0.223642   \n",
       "7 -1.302944       -0.410790     -0.670254        -0.223642   \n",
       "8 -1.268435       -0.307651     -0.716539        -0.223642   \n",
       "\n",
       "   VALEUR_DUM_DECLAREE  POIDS_NET  POIDS_BRUT    COD_BD    COD_RD  COD_ACCORD  \\\n",
       "4             0.103869   0.060439    0.022110 -2.911485 -0.582954    0.463808   \n",
       "5             0.016271  -0.038403   -0.015002 -2.911485 -0.582954   -0.970663   \n",
       "6            -0.060543  -0.043678   -0.016856 -2.911485 -0.582954    0.463808   \n",
       "7            -0.002083  -0.001749   -0.001918 -2.911485 -0.582954   -3.839605   \n",
       "8             1.800737   2.665306    0.981324 -2.911485 -0.582954    0.463808   \n",
       "\n",
       "   DECLARANT_POUR_LUI_MEME      Year     Month       Day  RISK_OP  RISK_tr  \\\n",
       "4                        0 -1.675178 -1.616045 -0.101445        0        0   \n",
       "5                        0 -1.675178  0.401598 -0.101445        0        0   \n",
       "6                        0 -1.675178  1.554537  0.355546        0        0   \n",
       "7                        0 -1.187518 -1.327811  0.127050        0        0   \n",
       "8                        0 -1.187518 -1.039576  0.584041        0        0   \n",
       "\n",
       "   FRAUD  \n",
       "4      0  \n",
       "5      0  \n",
       "6      0  \n",
       "7      0  \n",
       "8      0  "
      ]
     },
     "execution_count": 36,
     "metadata": {},
     "output_type": "execute_result"
    }
   ],
   "source": [
    "df.head()"
   ]
  },
  {
   "cell_type": "code",
   "execution_count": 37,
   "metadata": {},
   "outputs": [],
   "source": [
    "#function to select a desired size of the data\n",
    "def select_data(data, select_percent=0.8):\n",
    "    select_size = int(len(data) * select_percent)\n",
    "    selected_data = data[:select_size]\n",
    "    return selected_data\n",
    "\n",
    "df=select_data(df,0.2)\n"
   ]
  },
  {
   "cell_type": "code",
   "execution_count": 38,
   "metadata": {},
   "outputs": [
    {
     "data": {
      "text/plain": [
       "(1652049, 17)"
      ]
     },
     "execution_count": 38,
     "metadata": {},
     "output_type": "execute_result"
    }
   ],
   "source": [
    "df.shape"
   ]
  },
  {
   "cell_type": "code",
   "execution_count": 39,
   "metadata": {},
   "outputs": [],
   "source": [
    "#function split dataframe into multiple dataframe\n",
    "target='FRAUD'\n",
    "def splitDataFrameIntoSmaller(df, target):\n",
    "    \"\"\"\n",
    "    split dataframe into smaller dataframe\n",
    "    \"\"\"\n",
    "    l= df[target].unique()\n",
    "    list_df = []\n",
    "    for i in l:\n",
    "        list_df.append(df[df[target]==i])\n",
    "    return list_df\n",
    "\n",
    "ldf=splitDataFrameIntoSmaller(df,target)"
   ]
  },
  {
   "cell_type": "code",
   "execution_count": 40,
   "metadata": {},
   "outputs": [],
   "source": [
    "normal_events=ldf[0] #THE NORMAL DATA SET WITH THE AC VALUES \n",
    "abnormal_events=ldf[1]#THE ABNORMAL DATASET WITH THE VP VALUES\n",
    "y_abnormal=abnormal_events.pop('FRAUD')\n",
    "y_normal=normal_events.pop('FRAUD')"
   ]
  },
  {
   "cell_type": "code",
   "execution_count": 42,
   "metadata": {},
   "outputs": [],
   "source": [
    "# Split the data into training and testing sets\n",
    "X_train, X_test, y_train, y_test = train_test_split(normal_events,y_normal, test_size=0.2, random_state=42)"
   ]
  },
  {
   "cell_type": "code",
   "execution_count": 43,
   "metadata": {},
   "outputs": [
    {
     "name": "stdout",
     "output_type": "stream",
     "text": [
      "Shape of X_train: (1302712, 16)\n",
      "Shape of X_test: (325679, 16)\n",
      "Shape of y_train: (1302712,)\n",
      "Shape of y_test: (325679,)\n"
     ]
    }
   ],
   "source": [
    "\n",
    "print(\"Shape of X_train:\", X_train.shape)\n",
    "print(\"Shape of X_test:\", X_test.shape)\n",
    "print(\"Shape of y_train:\", y_train.shape)\n",
    "print(\"Shape of y_test:\", y_test.shape)"
   ]
  },
  {
   "cell_type": "code",
   "execution_count": 44,
   "metadata": {},
   "outputs": [],
   "source": [
    "# Standardize the data\n",
    "scaler = StandardScaler()\n",
    "X_train = scaler.fit_transform(X_train)\n",
    "X_test = scaler.transform(X_test)"
   ]
  },
  {
   "cell_type": "code",
   "execution_count": 45,
   "metadata": {},
   "outputs": [],
   "source": [
    "\n",
    "import tensorflow as tf\n",
    "from sklearn.metrics import accuracy_score, precision_score, recall_score\n",
    "from tensorflow.keras import layers, losses\n",
    "from tensorflow.keras.models import Model"
   ]
  },
  {
   "cell_type": "code",
   "execution_count": 46,
   "metadata": {},
   "outputs": [],
   "source": [
    "class AnomalyDetector(Model):\n",
    "  def __init__(self, input_dim):\n",
    "    super(AnomalyDetector, self).__init__()\n",
    "    self.encoder = tf.keras.Sequential([\n",
    "      layers.Dense(64, activation=\"relu\"),\n",
    "      layers.Dense(32, activation=\"relu\"),\n",
    "      layers.Dense(16, activation=\"relu\"),\n",
    "      layers.Dense(14, activation=\"relu\")])\n",
    "\n",
    "    self.decoder=tf.keras.Sequential([\n",
    "      layers.Dense(16,activation='relu'),\n",
    "      layers.Dense(32,activation='relu'),\n",
    "      layers.Dense(64,activation='relu'),\n",
    "      layers.Dense(input_dim, activation=\"sigmoid\")\n",
    "    ])\n",
    "  def call(self, x):\n",
    "    encoded = self.encoder(x)\n",
    "    decoded = self.decoder(encoded)\n",
    "    return decoded\n",
    "\n",
    "input_dim=X_train.shape[1]\n",
    "autoencoder = AnomalyDetector(input_dim)\n",
    "\n",
    "autoencoder.compile(optimizer='adam', loss='mae')"
   ]
  },
  {
   "cell_type": "code",
   "execution_count": 47,
   "metadata": {},
   "outputs": [
    {
     "name": "stdout",
     "output_type": "stream",
     "text": [
      "Epoch 1/15\n",
      "1273/1273 [==============================] - 6s 4ms/step - loss: 0.4627 - val_loss: 0.4282\n",
      "Epoch 2/15\n",
      "1273/1273 [==============================] - 4s 4ms/step - loss: 0.4257 - val_loss: 0.4211\n",
      "Epoch 3/15\n",
      "1273/1273 [==============================] - 5s 4ms/step - loss: 0.4202 - val_loss: 0.4205\n",
      "Epoch 4/15\n",
      "1273/1273 [==============================] - 5s 4ms/step - loss: 0.4196 - val_loss: 0.4198\n",
      "Epoch 5/15\n",
      "1273/1273 [==============================] - 6s 5ms/step - loss: 0.4192 - val_loss: 0.4195\n",
      "Epoch 6/15\n",
      "1273/1273 [==============================] - 5s 4ms/step - loss: 0.4112 - val_loss: 0.4055\n",
      "Epoch 7/15\n",
      "1273/1273 [==============================] - 4s 3ms/step - loss: 0.4050 - val_loss: 0.4058\n",
      "Epoch 8/15\n",
      "1273/1273 [==============================] - 4s 3ms/step - loss: 0.4046 - val_loss: 0.4055\n",
      "Epoch 9/15\n",
      "1273/1273 [==============================] - 5s 4ms/step - loss: 0.4043 - val_loss: 0.4048\n",
      "Epoch 10/15\n",
      "1273/1273 [==============================] - 5s 4ms/step - loss: 0.4042 - val_loss: 0.4049\n",
      "Epoch 11/15\n",
      "1273/1273 [==============================] - 5s 4ms/step - loss: 0.4040 - val_loss: 0.4044\n",
      "Epoch 12/15\n",
      "1273/1273 [==============================] - 5s 4ms/step - loss: 0.4040 - val_loss: 0.4044\n",
      "Epoch 13/15\n",
      "1273/1273 [==============================] - 5s 4ms/step - loss: 0.4039 - val_loss: 0.4045\n",
      "Epoch 14/15\n",
      "1273/1273 [==============================] - 5s 4ms/step - loss: 0.4038 - val_loss: 0.4051\n",
      "Epoch 15/15\n",
      "1273/1273 [==============================] - 5s 4ms/step - loss: 0.4038 - val_loss: 0.4043\n"
     ]
    }
   ],
   "source": [
    "history = autoencoder.fit(X_train, X_train, \n",
    "          epochs=15, \n",
    "          batch_size=1024,\n",
    "          validation_data=(X_test, X_test),\n",
    "          shuffle=True)"
   ]
  },
  {
   "cell_type": "code",
   "execution_count": 48,
   "metadata": {},
   "outputs": [
    {
     "data": {
      "text/plain": [
       "<matplotlib.legend.Legend at 0x17eba22d7f0>"
      ]
     },
     "execution_count": 48,
     "metadata": {},
     "output_type": "execute_result"
    },
    {
     "data": {
      "image/png": "[encoded data removed]",
      "text/plain": [
       "<Figure size 640x480 with 1 Axes>"
      ]
     },
     "metadata": {},
     "output_type": "display_data"
    }
   ],
   "source": [
    "plt.plot(history.history['loss'],label='training loss')\n",
    "plt.plot(history.history['val_loss'],label='validation loss')\n",
    "plt.legend()"
   ]
  },
  {
   "cell_type": "code",
   "execution_count": 49,
   "metadata": {},
   "outputs": [
    {
     "data": {
      "image/png": "[encoded data removed]",
      "text/plain": [
       "<Figure size 640x480 with 1 Axes>"
      ]
     },
     "metadata": {},
     "output_type": "display_data"
    }
   ],
   "source": [
    "reconstructions = autoencoder.predict(X_train)\n",
    "train_loss = tf.keras.losses.mae(reconstructions, X_train)\n",
    "\n",
    "plt.hist(train_loss[None,:], bins=50)\n",
    "plt.xlabel(\"Train loss\")\n",
    "plt.ylabel(\"No of examples\")\n",
    "plt.show()"
   ]
  },
  {
   "cell_type": "code",
   "execution_count": 50,
   "metadata": {},
   "outputs": [
    {
     "name": "stdout",
     "output_type": "stream",
     "text": [
      "Threshold:  1.6131509961301167\n"
     ]
    }
   ],
   "source": [
    "threshold = np.mean(train_loss) +6* np.std(train_loss)\n",
    "print(\"Threshold: \", threshold)"
   ]
  },
  {
   "cell_type": "code",
   "execution_count": 51,
   "metadata": {},
   "outputs": [
    {
     "data": {
      "image/png": "[encoded data removed]",
      "text/plain": [
       "<Figure size 640x480 with 1 Axes>"
      ]
     },
     "metadata": {},
     "output_type": "display_data"
    }
   ],
   "source": [
    "reconstructions = autoencoder.predict(abnormal_events)\n",
    "test_loss = tf.keras.losses.mae(reconstructions, abnormal_events)\n",
    "plt.hist(test_loss[None, :], bins=50)\n",
    "plt.xlabel(\"Test loss\")\n",
    "plt.ylabel(\"No of examples\")\n",
    "plt.show()"
   ]
  },
  {
   "cell_type": "code",
   "execution_count": 52,
   "metadata": {},
   "outputs": [],
   "source": [
    "def predict(model, data, threshold):\n",
    "  reconstructions = model(data)\n",
    "  loss = tf.keras.losses.mae(reconstructions, data)\n",
    "  return tf.math.less(loss, threshold)\n",
    "\n",
    "def print_stats(predictions, labels):\n",
    "  print(\"Accuracy = {}\".format(accuracy_score(labels, predictions)))\n",
    "  print(\"Precision = {}\".format(precision_score(labels, predictions)))\n",
    "  print(\"Recall = {}\".format(recall_score(labels, predictions)))\n",
    "  # Plot the trade-off between recall and accuracy\n",
    "  plt.figure(figsize=(8, 6))\n",
    "  plt.plot(recall_score(labels, predictions),accuracy_score(labels, predictions), marker='o', linestyle='-', color='b')\n",
    "  plt.title('Recall vs. Accuracy Trade-off')\n",
    "  plt.xlabel('Recall')\n",
    "  plt.ylabel('Accuracy')\n",
    "  plt.grid(True)\n",
    "  plt.show()"
   ]
  },
  {
   "cell_type": "code",
   "execution_count": 53,
   "metadata": {},
   "outputs": [],
   "source": [
    "y_all=df.pop('FRAUD')"
   ]
  },
  {
   "cell_type": "code",
   "execution_count": 54,
   "metadata": {},
   "outputs": [],
   "source": [
    "data=tf.convert_to_tensor(df) "
   ]
  },
  {
   "cell_type": "code",
   "execution_count": 55,
   "metadata": {},
   "outputs": [
    {
     "name": "stdout",
     "output_type": "stream",
     "text": [
      "Accuracy = 0.015478959764510617\n",
      "Precision = 0.014319937796842208\n",
      "Recall = 0.9987741990024516\n"
     ]
    },
    {
     "data": {
      "image/png": "[encoded data removed]",
      "text/plain": [
       "<Figure size 800x600 with 1 Axes>"
      ]
     },
     "metadata": {},
     "output_type": "display_data"
    }
   ],
   "source": [
    "preds = predict(autoencoder, data, threshold)\n",
    "print_stats(preds, y_all)"
   ]
  },
  {
   "cell_type": "code",
   "execution_count": 56,
   "metadata": {},
   "outputs": [
    {
     "ename": "ValueError",
     "evalue": "continuous-multioutput format is not supported",
     "output_type": "error",
     "traceback": [
      "\u001b[1;31m---------------------------------------------------------------------------\u001b[0m",
      "\u001b[1;31mValueError\u001b[0m                                Traceback (most recent call last)",
      "\u001b[1;32md:\\dataset new version\\Autoencoder_on_newdata.ipynb Cell 59\u001b[0m line \u001b[0;36m8\n\u001b[0;32m      <a href='vscode-notebook-cell:/d%3A/dataset%20new%20version/Autoencoder_on_newdata.ipynb#Y156sZmlsZQ%3D%3D?line=2'>3</a>\u001b[0m test_loss \u001b[39m=\u001b[39m tf\u001b[39m.\u001b[39mkeras\u001b[39m.\u001b[39mlosses\u001b[39m.\u001b[39mmae(reconstructions, abnormal_events)\n\u001b[0;32m      <a href='vscode-notebook-cell:/d%3A/dataset%20new%20version/Autoencoder_on_newdata.ipynb#Y156sZmlsZQ%3D%3D?line=4'>5</a>\u001b[0m \u001b[39m# Create binary labels based on a threshold (you can adjust this threshold)\u001b[39;00m\n\u001b[0;32m      <a href='vscode-notebook-cell:/d%3A/dataset%20new%20version/Autoencoder_on_newdata.ipynb#Y156sZmlsZQ%3D%3D?line=5'>6</a>\u001b[0m \n\u001b[0;32m      <a href='vscode-notebook-cell:/d%3A/dataset%20new%20version/Autoencoder_on_newdata.ipynb#Y156sZmlsZQ%3D%3D?line=6'>7</a>\u001b[0m \u001b[39m# Calculate ROC curve and AUC\u001b[39;00m\n\u001b[1;32m----> <a href='vscode-notebook-cell:/d%3A/dataset%20new%20version/Autoencoder_on_newdata.ipynb#Y156sZmlsZQ%3D%3D?line=7'>8</a>\u001b[0m fpr, tpr, thresholds \u001b[39m=\u001b[39m roc_curve(X_test, test_loss)  \u001b[39m# Replace true_labels with your ground truth labels\u001b[39;00m\n\u001b[0;32m      <a href='vscode-notebook-cell:/d%3A/dataset%20new%20version/Autoencoder_on_newdata.ipynb#Y156sZmlsZQ%3D%3D?line=8'>9</a>\u001b[0m roc_auc \u001b[39m=\u001b[39m auc(fpr, tpr)\n\u001b[0;32m     <a href='vscode-notebook-cell:/d%3A/dataset%20new%20version/Autoencoder_on_newdata.ipynb#Y156sZmlsZQ%3D%3D?line=10'>11</a>\u001b[0m \u001b[39m# Plot ROC curve\u001b[39;00m\n",
      "File \u001b[1;32mc:\\Users\\Storbiiic\\anaconda3\\envs\\tf-gpu\\lib\\site-packages\\sklearn\\utils\\_param_validation.py:211\u001b[0m, in \u001b[0;36mvalidate_params.<locals>.decorator.<locals>.wrapper\u001b[1;34m(*args, **kwargs)\u001b[0m\n\u001b[0;32m    205\u001b[0m \u001b[39mtry\u001b[39;00m:\n\u001b[0;32m    206\u001b[0m     \u001b[39mwith\u001b[39;00m config_context(\n\u001b[0;32m    207\u001b[0m         skip_parameter_validation\u001b[39m=\u001b[39m(\n\u001b[0;32m    208\u001b[0m             prefer_skip_nested_validation \u001b[39mor\u001b[39;00m global_skip_validation\n\u001b[0;32m    209\u001b[0m         )\n\u001b[0;32m    210\u001b[0m     ):\n\u001b[1;32m--> 211\u001b[0m         \u001b[39mreturn\u001b[39;00m func(\u001b[39m*\u001b[39margs, \u001b[39m*\u001b[39m\u001b[39m*\u001b[39mkwargs)\n\u001b[0;32m    212\u001b[0m \u001b[39mexcept\u001b[39;00m InvalidParameterError \u001b[39mas\u001b[39;00m e:\n\u001b[0;32m    213\u001b[0m     \u001b[39m# When the function is just a wrapper around an estimator, we allow\u001b[39;00m\n\u001b[0;32m    214\u001b[0m     \u001b[39m# the function to delegate validation to the estimator, but we replace\u001b[39;00m\n\u001b[0;32m    215\u001b[0m     \u001b[39m# the name of the estimator by the name of the function in the error\u001b[39;00m\n\u001b[0;32m    216\u001b[0m     \u001b[39m# message to avoid confusion.\u001b[39;00m\n\u001b[0;32m    217\u001b[0m     msg \u001b[39m=\u001b[39m re\u001b[39m.\u001b[39msub(\n\u001b[0;32m    218\u001b[0m         \u001b[39mr\u001b[39m\u001b[39m\"\u001b[39m\u001b[39mparameter of \u001b[39m\u001b[39m\\\u001b[39m\u001b[39mw+ must be\u001b[39m\u001b[39m\"\u001b[39m,\n\u001b[0;32m    219\u001b[0m         \u001b[39mf\u001b[39m\u001b[39m\"\u001b[39m\u001b[39mparameter of \u001b[39m\u001b[39m{\u001b[39;00mfunc\u001b[39m.\u001b[39m\u001b[39m__qualname__\u001b[39m\u001b[39m}\u001b[39;00m\u001b[39m must be\u001b[39m\u001b[39m\"\u001b[39m,\n\u001b[0;32m    220\u001b[0m         \u001b[39mstr\u001b[39m(e),\n\u001b[0;32m    221\u001b[0m     )\n",
      "File \u001b[1;32mc:\\Users\\Storbiiic\\anaconda3\\envs\\tf-gpu\\lib\\site-packages\\sklearn\\metrics\\_ranking.py:1094\u001b[0m, in \u001b[0;36mroc_curve\u001b[1;34m(y_true, y_score, pos_label, sample_weight, drop_intermediate)\u001b[0m\n\u001b[0;32m    992\u001b[0m \u001b[39m@validate_params\u001b[39m(\n\u001b[0;32m    993\u001b[0m     {\n\u001b[0;32m    994\u001b[0m         \u001b[39m\"\u001b[39m\u001b[39my_true\u001b[39m\u001b[39m\"\u001b[39m: [\u001b[39m\"\u001b[39m\u001b[39marray-like\u001b[39m\u001b[39m\"\u001b[39m],\n\u001b[1;32m   (...)\u001b[0m\n\u001b[0;32m   1003\u001b[0m     y_true, y_score, \u001b[39m*\u001b[39m, pos_label\u001b[39m=\u001b[39m\u001b[39mNone\u001b[39;00m, sample_weight\u001b[39m=\u001b[39m\u001b[39mNone\u001b[39;00m, drop_intermediate\u001b[39m=\u001b[39m\u001b[39mTrue\u001b[39;00m\n\u001b[0;32m   1004\u001b[0m ):\n\u001b[0;32m   1005\u001b[0m \u001b[39m    \u001b[39m\u001b[39m\"\"\"Compute Receiver operating characteristic (ROC).\u001b[39;00m\n\u001b[0;32m   1006\u001b[0m \n\u001b[0;32m   1007\u001b[0m \u001b[39m    Note: this implementation is restricted to the binary classification task.\u001b[39;00m\n\u001b[1;32m   (...)\u001b[0m\n\u001b[0;32m   1092\u001b[0m \u001b[39m    array([ inf, 0.8 , 0.4 , 0.35, 0.1 ])\u001b[39;00m\n\u001b[0;32m   1093\u001b[0m \u001b[39m    \"\"\"\u001b[39;00m\n\u001b[1;32m-> 1094\u001b[0m     fps, tps, thresholds \u001b[39m=\u001b[39m _binary_clf_curve(\n\u001b[0;32m   1095\u001b[0m         y_true, y_score, pos_label\u001b[39m=\u001b[39;49mpos_label, sample_weight\u001b[39m=\u001b[39;49msample_weight\n\u001b[0;32m   1096\u001b[0m     )\n\u001b[0;32m   1098\u001b[0m     \u001b[39m# Attempt to drop thresholds corresponding to points in between and\u001b[39;00m\n\u001b[0;32m   1099\u001b[0m     \u001b[39m# collinear with other points. These are always suboptimal and do not\u001b[39;00m\n\u001b[0;32m   1100\u001b[0m     \u001b[39m# appear on a plotted ROC curve (and thus do not affect the AUC).\u001b[39;00m\n\u001b[1;32m   (...)\u001b[0m\n\u001b[0;32m   1105\u001b[0m     \u001b[39m# but does not drop more complicated cases like fps = [1, 3, 7],\u001b[39;00m\n\u001b[0;32m   1106\u001b[0m     \u001b[39m# tps = [1, 2, 4]; there is no harm in keeping too many thresholds.\u001b[39;00m\n\u001b[0;32m   1107\u001b[0m     \u001b[39mif\u001b[39;00m drop_intermediate \u001b[39mand\u001b[39;00m \u001b[39mlen\u001b[39m(fps) \u001b[39m>\u001b[39m \u001b[39m2\u001b[39m:\n",
      "File \u001b[1;32mc:\\Users\\Storbiiic\\anaconda3\\envs\\tf-gpu\\lib\\site-packages\\sklearn\\metrics\\_ranking.py:803\u001b[0m, in \u001b[0;36m_binary_clf_curve\u001b[1;34m(y_true, y_score, pos_label, sample_weight)\u001b[0m\n\u001b[0;32m    801\u001b[0m y_type \u001b[39m=\u001b[39m type_of_target(y_true, input_name\u001b[39m=\u001b[39m\u001b[39m\"\u001b[39m\u001b[39my_true\u001b[39m\u001b[39m\"\u001b[39m)\n\u001b[0;32m    802\u001b[0m \u001b[39mif\u001b[39;00m \u001b[39mnot\u001b[39;00m (y_type \u001b[39m==\u001b[39m \u001b[39m\"\u001b[39m\u001b[39mbinary\u001b[39m\u001b[39m\"\u001b[39m \u001b[39mor\u001b[39;00m (y_type \u001b[39m==\u001b[39m \u001b[39m\"\u001b[39m\u001b[39mmulticlass\u001b[39m\u001b[39m\"\u001b[39m \u001b[39mand\u001b[39;00m pos_label \u001b[39mis\u001b[39;00m \u001b[39mnot\u001b[39;00m \u001b[39mNone\u001b[39;00m)):\n\u001b[1;32m--> 803\u001b[0m     \u001b[39mraise\u001b[39;00m \u001b[39mValueError\u001b[39;00m(\u001b[39m\"\u001b[39m\u001b[39m{0}\u001b[39;00m\u001b[39m format is not supported\u001b[39m\u001b[39m\"\u001b[39m\u001b[39m.\u001b[39mformat(y_type))\n\u001b[0;32m    805\u001b[0m check_consistent_length(y_true, y_score, sample_weight)\n\u001b[0;32m    806\u001b[0m y_true \u001b[39m=\u001b[39m column_or_1d(y_true)\n",
      "\u001b[1;31mValueError\u001b[0m: continuous-multioutput format is not supported"
     ]
    }
   ],
   "source": [
    "\n",
    "from sklearn.metrics import roc_curve, auc\n",
    "# Calculate reconstruction errors (MSE in this case)\n",
    "test_loss = tf.keras.losses.mae(reconstructions, abnormal_events)\n",
    "\n",
    "# Create binary labels based on a threshold (you can adjust this threshold)\n",
    "\n",
    "# Calculate ROC curve and AUC\n",
    "fpr, tpr, thresholds = roc_curve(X_test, test_loss)  # Replace true_labels with your ground truth labels\n",
    "roc_auc = auc(fpr, tpr)\n",
    "\n",
    "# Plot ROC curve\n",
    "plt.figure(figsize=(8, 6))\n",
    "plt.plot(fpr, tpr, color='darkorange', lw=2, label='ROC curve (area = {:.2f})'.format(roc_auc))\n",
    "plt.plot([0, 1], [0, 1], color='navy', lw=2, linestyle='--')\n",
    "plt.xlim([0.0, 1.0])\n",
    "plt.ylim([0.0, 1.05])\n",
    "plt.xlabel('False Positive Rate')\n",
    "plt.ylabel('True Positive Rate')\n",
    "plt.title('ROC Curve')\n",
    "plt.legend(loc='lower right')\n",
    "plt.grid(True)\n",
    "plt.show()\n"
   ]
  },
  {
   "cell_type": "code",
   "execution_count": 57,
   "metadata": {},
   "outputs": [
    {
     "data": {
      "image/png": "[encoded data removed]",
      "text/plain": [
       "<Figure size 1200x1200 with 2 Axes>"
      ]
     },
     "metadata": {},
     "output_type": "display_data"
    }
   ],
   "source": [
    "LABELS=['Normal','Fraud']\n",
    "confusion_matrix = pd.crosstab(y_all, preds)\n",
    "plt.figure(figsize=(12, 12))\n",
    "sns.heatmap(confusion_matrix, xticklabels=LABELS, yticklabels=LABELS, annot=True, fmt=\"d\")\n",
    "plt.title(\"Confusion matrix\")\n",
    "plt.ylabel('True class')\n",
    "plt.xlabel('Predicted class')\n",
    "plt.show()"
   ]
  },
  {
   "cell_type": "markdown",
   "metadata": {},
   "source": [
    "# AUTOENCODER VERSION 02"
   ]
  },
  {
   "cell_type": "code",
   "execution_count": 58,
   "metadata": {},
   "outputs": [
    {
     "name": "stdout",
     "output_type": "stream",
     "text": [
      "<class 'pandas.core.frame.DataFrame'>\n",
      "Index: 8260248 entries, 4 to 10025878\n",
      "Data columns (total 17 columns):\n",
      " #   Column                   Dtype  \n",
      "---  ------                   -----  \n",
      " 0   ID_DUM                   int64  \n",
      " 1   ID_TRANSITAIRE           int64  \n",
      " 2   ID_OPERATEUR             int64  \n",
      " 3   NOMBRE_ARTICLES          int64  \n",
      " 4   VALEUR_DUM_DECLAREE      float64\n",
      " 5   POIDS_NET                float64\n",
      " 6   POIDS_BRUT               float64\n",
      " 7   COD_BD                   int64  \n",
      " 8   COD_RD                   int64  \n",
      " 9   COD_ACCORD               int32  \n",
      " 10  FRAUD                    int64  \n",
      " 11  DECLARANT_POUR_LUI_MEME  int32  \n",
      " 12  Year                     int32  \n",
      " 13  Month                    int32  \n",
      " 14  Day                      int32  \n",
      " 15  RISK_OP                  int32  \n",
      " 16  RISK_tr                  int32  \n",
      "dtypes: float64(3), int32(7), int64(7)\n",
      "memory usage: 913.8 MB\n"
     ]
    }
   ],
   "source": [
    "df2.info()"
   ]
  },
  {
   "cell_type": "code",
   "execution_count": 59,
   "metadata": {},
   "outputs": [
    {
     "data": {
      "text/html": [
       "<div>\n",
       "<style scoped>\n",
       "    .dataframe tbody tr th:only-of-type {\n",
       "        vertical-align: middle;\n",
       "    }\n",
       "\n",
       "    .dataframe tbody tr th {\n",
       "        vertical-align: top;\n",
       "    }\n",
       "\n",
       "    .dataframe thead th {\n",
       "        text-align: right;\n",
       "    }\n",
       "</style>\n",
       "<table border=\"1\" class=\"dataframe\">\n",
       "  <thead>\n",
       "    <tr style=\"text-align: right;\">\n",
       "      <th></th>\n",
       "      <th>ID_DUM</th>\n",
       "      <th>ID_TRANSITAIRE</th>\n",
       "      <th>ID_OPERATEUR</th>\n",
       "      <th>NOMBRE_ARTICLES</th>\n",
       "      <th>VALEUR_DUM_DECLAREE</th>\n",
       "      <th>POIDS_NET</th>\n",
       "      <th>POIDS_BRUT</th>\n",
       "      <th>COD_BD</th>\n",
       "      <th>COD_RD</th>\n",
       "      <th>COD_ACCORD</th>\n",
       "      <th>FRAUD</th>\n",
       "      <th>DECLARANT_POUR_LUI_MEME</th>\n",
       "      <th>Year</th>\n",
       "      <th>Month</th>\n",
       "      <th>Day</th>\n",
       "      <th>RISK_OP</th>\n",
       "      <th>RISK_tr</th>\n",
       "    </tr>\n",
       "  </thead>\n",
       "  <tbody>\n",
       "    <tr>\n",
       "      <th>4</th>\n",
       "      <td>17150681</td>\n",
       "      <td>11587</td>\n",
       "      <td>258062</td>\n",
       "      <td>3</td>\n",
       "      <td>1696083.0</td>\n",
       "      <td>131467.0</td>\n",
       "      <td>137880.0</td>\n",
       "      <td>100</td>\n",
       "      <td>2</td>\n",
       "      <td>19</td>\n",
       "      <td>0</td>\n",
       "      <td>0</td>\n",
       "      <td>2016</td>\n",
       "      <td>1</td>\n",
       "      <td>15</td>\n",
       "      <td>0</td>\n",
       "      <td>0</td>\n",
       "    </tr>\n",
       "    <tr>\n",
       "      <th>5</th>\n",
       "      <td>18249526</td>\n",
       "      <td>44584</td>\n",
       "      <td>13864</td>\n",
       "      <td>1</td>\n",
       "      <td>825795.0</td>\n",
       "      <td>7800.0</td>\n",
       "      <td>7800.0</td>\n",
       "      <td>100</td>\n",
       "      <td>2</td>\n",
       "      <td>16</td>\n",
       "      <td>0</td>\n",
       "      <td>0</td>\n",
       "      <td>2016</td>\n",
       "      <td>8</td>\n",
       "      <td>15</td>\n",
       "      <td>0</td>\n",
       "      <td>0</td>\n",
       "    </tr>\n",
       "    <tr>\n",
       "      <th>6</th>\n",
       "      <td>18917624</td>\n",
       "      <td>11554</td>\n",
       "      <td>1002</td>\n",
       "      <td>1</td>\n",
       "      <td>62633.0</td>\n",
       "      <td>1200.0</td>\n",
       "      <td>1300.0</td>\n",
       "      <td>100</td>\n",
       "      <td>2</td>\n",
       "      <td>19</td>\n",
       "      <td>0</td>\n",
       "      <td>0</td>\n",
       "      <td>2016</td>\n",
       "      <td>12</td>\n",
       "      <td>19</td>\n",
       "      <td>0</td>\n",
       "      <td>0</td>\n",
       "    </tr>\n",
       "    <tr>\n",
       "      <th>7</th>\n",
       "      <td>19242382</td>\n",
       "      <td>1007</td>\n",
       "      <td>9295</td>\n",
       "      <td>1</td>\n",
       "      <td>643438.0</td>\n",
       "      <td>53660.0</td>\n",
       "      <td>53660.0</td>\n",
       "      <td>100</td>\n",
       "      <td>2</td>\n",
       "      <td>10</td>\n",
       "      <td>0</td>\n",
       "      <td>0</td>\n",
       "      <td>2017</td>\n",
       "      <td>2</td>\n",
       "      <td>17</td>\n",
       "      <td>0</td>\n",
       "      <td>0</td>\n",
       "    </tr>\n",
       "    <tr>\n",
       "      <th>8</th>\n",
       "      <td>19417229</td>\n",
       "      <td>11554</td>\n",
       "      <td>1002</td>\n",
       "      <td>1</td>\n",
       "      <td>18554636.0</td>\n",
       "      <td>3390575.0</td>\n",
       "      <td>3500000.0</td>\n",
       "      <td>100</td>\n",
       "      <td>2</td>\n",
       "      <td>19</td>\n",
       "      <td>0</td>\n",
       "      <td>0</td>\n",
       "      <td>2017</td>\n",
       "      <td>3</td>\n",
       "      <td>21</td>\n",
       "      <td>0</td>\n",
       "      <td>0</td>\n",
       "    </tr>\n",
       "  </tbody>\n",
       "</table>\n",
       "</div>"
      ],
      "text/plain": [
       "     ID_DUM  ID_TRANSITAIRE  ID_OPERATEUR  NOMBRE_ARTICLES  \\\n",
       "4  17150681           11587        258062                3   \n",
       "5  18249526           44584         13864                1   \n",
       "6  18917624           11554          1002                1   \n",
       "7  19242382            1007          9295                1   \n",
       "8  19417229           11554          1002                1   \n",
       "\n",
       "   VALEUR_DUM_DECLAREE  POIDS_NET  POIDS_BRUT  COD_BD  COD_RD  COD_ACCORD  \\\n",
       "4            1696083.0   131467.0    137880.0     100       2          19   \n",
       "5             825795.0     7800.0      7800.0     100       2          16   \n",
       "6              62633.0     1200.0      1300.0     100       2          19   \n",
       "7             643438.0    53660.0     53660.0     100       2          10   \n",
       "8           18554636.0  3390575.0   3500000.0     100       2          19   \n",
       "\n",
       "   FRAUD  DECLARANT_POUR_LUI_MEME  Year  Month  Day  RISK_OP  RISK_tr  \n",
       "4      0                        0  2016      1   15        0        0  \n",
       "5      0                        0  2016      8   15        0        0  \n",
       "6      0                        0  2016     12   19        0        0  \n",
       "7      0                        0  2017      2   17        0        0  \n",
       "8      0                        0  2017      3   21        0        0  "
      ]
     },
     "execution_count": 59,
     "metadata": {},
     "output_type": "execute_result"
    }
   ],
   "source": [
    "df2.head()"
   ]
  },
  {
   "cell_type": "code",
   "execution_count": 60,
   "metadata": {},
   "outputs": [
    {
     "data": {
      "text/plain": [
       "(111930, 17)"
      ]
     },
     "execution_count": 60,
     "metadata": {},
     "output_type": "execute_result"
    }
   ],
   "source": [
    "frauds=df2[df2.FRAUD == 1]\n",
    "normal=df2[df2.FRAUD == 0]\n",
    "frauds.shape"
   ]
  },
  {
   "cell_type": "code",
   "execution_count": 61,
   "metadata": {},
   "outputs": [
    {
     "data": {
      "text/plain": [
       "(8148318, 17)"
      ]
     },
     "execution_count": 61,
     "metadata": {},
     "output_type": "execute_result"
    }
   ],
   "source": [
    "normal.shape"
   ]
  },
  {
   "cell_type": "code",
   "execution_count": 62,
   "metadata": {},
   "outputs": [
    {
     "data": {
      "text/plain": [
       "count    1.119300e+05\n",
       "mean     2.513853e+07\n",
       "std      4.553410e+06\n",
       "min      1.706682e+07\n",
       "25%      2.111439e+07\n",
       "50%      2.479362e+07\n",
       "75%      2.848137e+07\n",
       "max      3.396438e+07\n",
       "Name: ID_DUM, dtype: float64"
      ]
     },
     "execution_count": 62,
     "metadata": {},
     "output_type": "execute_result"
    }
   ],
   "source": [
    "frauds['ID_DUM'].describe()"
   ]
  },
  {
   "cell_type": "code",
   "execution_count": 63,
   "metadata": {},
   "outputs": [
    {
     "data": {
      "text/plain": [
       "count    8.148318e+06\n",
       "mean     2.585363e+07\n",
       "std      5.072656e+06\n",
       "min      1.632880e+07\n",
       "25%      2.131901e+07\n",
       "50%      2.600872e+07\n",
       "75%      3.026096e+07\n",
       "max      3.425461e+07\n",
       "Name: ID_DUM, dtype: float64"
      ]
     },
     "execution_count": 63,
     "metadata": {},
     "output_type": "execute_result"
    }
   ],
   "source": [
    "normal['ID_DUM'].describe()"
   ]
  },
  {
   "cell_type": "code",
   "execution_count": 64,
   "metadata": {},
   "outputs": [
    {
     "data": {
      "image/png": "[encoded data removed]",
      "text/plain": [
       "<Figure size 640x480 with 2 Axes>"
      ]
     },
     "metadata": {},
     "output_type": "display_data"
    }
   ],
   "source": [
    "#graphical representaion of the preposed approach\n",
    "#ANOTHER GRAPH ON THE VALUE \n",
    "f, (ax1, ax2) = plt.subplots(2, 1, sharex=True)\n",
    "f.suptitle('ID_DUM per transaction by FRAUD')\n",
    "\n",
    "bins = 50\n",
    "\n",
    "ax1.hist(frauds['ID_DUM'], bins = bins)\n",
    "ax1.set_title('Fraud')\n",
    "\n",
    "ax2.hist(normal['ID_DUM'], bins = bins)\n",
    "ax2.set_title('Normal')\n",
    "\n",
    "plt.xlabel('ID_DUM')\n",
    "plt.ylabel('Number of Transactions')\n",
    "plt.xlim((0, 20000))\n",
    "plt.yscale('log')\n",
    "plt.show()"
   ]
  },
  {
   "cell_type": "code",
   "execution_count": 65,
   "metadata": {},
   "outputs": [
    {
     "data": {
      "image/png": "[encoded data removed]",
      "text/plain": [
       "<Figure size 640x480 with 2 Axes>"
      ]
     },
     "metadata": {},
     "output_type": "display_data"
    }
   ],
   "source": [
    "#ANOTHER GRAPH ON THE VALUE \n",
    "f, (ax1, ax2) = plt.subplots(2, 1, sharex=True)\n",
    "f.suptitle('value per transaction by FRAUD')\n",
    "\n",
    "bins = 50\n",
    "\n",
    "ax1.hist(frauds['VALEUR_DUM_DECLAREE'], bins = bins)\n",
    "ax1.set_title('Fraud')\n",
    "\n",
    "ax2.hist(normal['VALEUR_DUM_DECLAREE'], bins = bins)\n",
    "ax2.set_title('Normal')\n",
    "\n",
    "plt.xlabel('ID_DUM')\n",
    "plt.ylabel('Number of Transactions')\n",
    "plt.xlim((0, 20000))\n",
    "plt.yscale('log')\n",
    "plt.show()"
   ]
  },
  {
   "cell_type": "code",
   "execution_count": null,
   "metadata": {},
   "outputs": [],
   "source": []
  },
  {
   "cell_type": "code",
   "execution_count": 66,
   "metadata": {},
   "outputs": [],
   "source": [
    "data=df2.drop(['Year','Month','Day'],axis=1)"
   ]
  },
  {
   "cell_type": "code",
   "execution_count": 67,
   "metadata": {},
   "outputs": [],
   "source": [
    "RANDOM_SEED = 42\n",
    "LABELS = [\"Normal\", \"Fraud\"]"
   ]
  },
  {
   "cell_type": "code",
   "execution_count": 68,
   "metadata": {},
   "outputs": [
    {
     "data": {
      "text/plain": [
       "(6518615, 13)"
      ]
     },
     "execution_count": 68,
     "metadata": {},
     "output_type": "execute_result"
    }
   ],
   "source": [
    "X_train, X_test = train_test_split(data, test_size=0.2, random_state=RANDOM_SEED)\n",
    "X_train = X_train[X_train.FRAUD == 0]\n",
    "X_train = X_train.drop(['FRAUD'], axis=1)\n",
    "y_test = X_test['FRAUD']\n",
    "X_test = X_test.drop(['FRAUD'], axis=1)\n",
    "X_train = X_train.values\n",
    "X_test = X_test.values\n",
    "X_train.shape"
   ]
  },
  {
   "cell_type": "code",
   "execution_count": 69,
   "metadata": {},
   "outputs": [],
   "source": [
    "# Standardize the data\n",
    "scaler = StandardScaler()\n",
    "X_train = scaler.fit_transform(X_train)\n",
    "X_test = scaler.transform(X_test)"
   ]
  },
  {
   "cell_type": "code",
   "execution_count": 70,
   "metadata": {},
   "outputs": [],
   "source": [
    "from keras.models import Model, load_model\n",
    "from keras.layers import Input, Dense\n",
    "from keras.callbacks import ModelCheckpoint, TensorBoard\n",
    "from keras import regularizers"
   ]
  },
  {
   "cell_type": "code",
   "execution_count": 71,
   "metadata": {},
   "outputs": [],
   "source": [
    "input_dim = X_train.shape[1]\n",
    "encoding_dim = 14\n",
    "input_layer = Input(shape=(input_dim, ))\n",
    "encoder = Dense(encoding_dim, activation=\"tanh\", \n",
    "                activity_regularizer=regularizers.l1(0.01))(input_layer)\n",
    "encoder = Dense(int(encoding_dim / 2), activation=\"relu\")(encoder)\n",
    "decoder = Dense(int(encoding_dim / 2), activation='tanh')(encoder)\n",
    "decoder = Dense(input_dim, activation='relu')(decoder)\n",
    "autoencoder = Model(inputs=input_layer, outputs=decoder)"
   ]
  },
  {
   "cell_type": "code",
   "execution_count": 72,
   "metadata": {},
   "outputs": [
    {
     "name": "stdout",
     "output_type": "stream",
     "text": [
      "Epoch 1/15\n",
      "3183/3183 [==============================] - 12s 3ms/step - loss: 0.5207 - accuracy: 0.7708 - val_loss: 0.4244 - val_accuracy: 0.8796\n",
      "Epoch 2/15\n",
      "3183/3183 [==============================] - 11s 4ms/step - loss: 0.4062 - accuracy: 0.8918 - val_loss: 0.3977 - val_accuracy: 0.8949\n",
      "Epoch 3/15\n",
      " 815/3183 [======>.......................] - ETA: 7s - loss: 0.5844 - accuracy: 0.8933"
     ]
    },
    {
     "ename": "KeyboardInterrupt",
     "evalue": "",
     "output_type": "error",
     "traceback": [
      "\u001b[1;31m---------------------------------------------------------------------------\u001b[0m",
      "\u001b[1;31mKeyboardInterrupt\u001b[0m                         Traceback (most recent call last)",
      "\u001b[1;32md:\\dataset new version\\Autoencoder_on_newdata.ipynb Cell 77\u001b[0m line \u001b[0;36m1\n\u001b[0;32m      <a href='vscode-notebook-cell:/d%3A/dataset%20new%20version/Autoencoder_on_newdata.ipynb#Y135sZmlsZQ%3D%3D?line=5'>6</a>\u001b[0m checkpointer \u001b[39m=\u001b[39m ModelCheckpoint(filepath\u001b[39m=\u001b[39m\u001b[39m\"\u001b[39m\u001b[39mmodel.h5\u001b[39m\u001b[39m\"\u001b[39m,\n\u001b[0;32m      <a href='vscode-notebook-cell:/d%3A/dataset%20new%20version/Autoencoder_on_newdata.ipynb#Y135sZmlsZQ%3D%3D?line=6'>7</a>\u001b[0m                                verbose\u001b[39m=\u001b[39m\u001b[39m0\u001b[39m,\n\u001b[0;32m      <a href='vscode-notebook-cell:/d%3A/dataset%20new%20version/Autoencoder_on_newdata.ipynb#Y135sZmlsZQ%3D%3D?line=7'>8</a>\u001b[0m                                save_best_only\u001b[39m=\u001b[39m\u001b[39mTrue\u001b[39;00m)\n\u001b[0;32m      <a href='vscode-notebook-cell:/d%3A/dataset%20new%20version/Autoencoder_on_newdata.ipynb#Y135sZmlsZQ%3D%3D?line=8'>9</a>\u001b[0m tensorboard \u001b[39m=\u001b[39m TensorBoard(log_dir\u001b[39m=\u001b[39m\u001b[39m'\u001b[39m\u001b[39m./logs\u001b[39m\u001b[39m'\u001b[39m,\n\u001b[0;32m     <a href='vscode-notebook-cell:/d%3A/dataset%20new%20version/Autoencoder_on_newdata.ipynb#Y135sZmlsZQ%3D%3D?line=9'>10</a>\u001b[0m                           histogram_freq\u001b[39m=\u001b[39m\u001b[39m0\u001b[39m,\n\u001b[0;32m     <a href='vscode-notebook-cell:/d%3A/dataset%20new%20version/Autoencoder_on_newdata.ipynb#Y135sZmlsZQ%3D%3D?line=10'>11</a>\u001b[0m                           write_graph\u001b[39m=\u001b[39m\u001b[39mTrue\u001b[39;00m,\n\u001b[0;32m     <a href='vscode-notebook-cell:/d%3A/dataset%20new%20version/Autoencoder_on_newdata.ipynb#Y135sZmlsZQ%3D%3D?line=11'>12</a>\u001b[0m                           write_images\u001b[39m=\u001b[39m\u001b[39mTrue\u001b[39;00m)\n\u001b[1;32m---> <a href='vscode-notebook-cell:/d%3A/dataset%20new%20version/Autoencoder_on_newdata.ipynb#Y135sZmlsZQ%3D%3D?line=12'>13</a>\u001b[0m history \u001b[39m=\u001b[39m autoencoder\u001b[39m.\u001b[39;49mfit(X_train, X_train,\n\u001b[0;32m     <a href='vscode-notebook-cell:/d%3A/dataset%20new%20version/Autoencoder_on_newdata.ipynb#Y135sZmlsZQ%3D%3D?line=13'>14</a>\u001b[0m                     epochs\u001b[39m=\u001b[39;49mnb_epoch,\n\u001b[0;32m     <a href='vscode-notebook-cell:/d%3A/dataset%20new%20version/Autoencoder_on_newdata.ipynb#Y135sZmlsZQ%3D%3D?line=14'>15</a>\u001b[0m                     batch_size\u001b[39m=\u001b[39;49mbatch_size,\n\u001b[0;32m     <a href='vscode-notebook-cell:/d%3A/dataset%20new%20version/Autoencoder_on_newdata.ipynb#Y135sZmlsZQ%3D%3D?line=15'>16</a>\u001b[0m                     shuffle\u001b[39m=\u001b[39;49m\u001b[39mTrue\u001b[39;49;00m,\n\u001b[0;32m     <a href='vscode-notebook-cell:/d%3A/dataset%20new%20version/Autoencoder_on_newdata.ipynb#Y135sZmlsZQ%3D%3D?line=16'>17</a>\u001b[0m                     validation_data\u001b[39m=\u001b[39;49m(X_test, X_test),\n\u001b[0;32m     <a href='vscode-notebook-cell:/d%3A/dataset%20new%20version/Autoencoder_on_newdata.ipynb#Y135sZmlsZQ%3D%3D?line=17'>18</a>\u001b[0m                     verbose\u001b[39m=\u001b[39;49m\u001b[39m1\u001b[39;49m,\n\u001b[0;32m     <a href='vscode-notebook-cell:/d%3A/dataset%20new%20version/Autoencoder_on_newdata.ipynb#Y135sZmlsZQ%3D%3D?line=18'>19</a>\u001b[0m                     callbacks\u001b[39m=\u001b[39;49m[checkpointer, tensorboard])\u001b[39m.\u001b[39mhistory\n",
      "File \u001b[1;32mc:\\Users\\Storbiiic\\anaconda3\\envs\\tf-gpu\\lib\\site-packages\\keras\\engine\\training.py:1184\u001b[0m, in \u001b[0;36mModel.fit\u001b[1;34m(self, x, y, batch_size, epochs, verbose, callbacks, validation_split, validation_data, shuffle, class_weight, sample_weight, initial_epoch, steps_per_epoch, validation_steps, validation_batch_size, validation_freq, max_queue_size, workers, use_multiprocessing)\u001b[0m\n\u001b[0;32m   1177\u001b[0m \u001b[39mwith\u001b[39;00m tf\u001b[39m.\u001b[39mprofiler\u001b[39m.\u001b[39mexperimental\u001b[39m.\u001b[39mTrace(\n\u001b[0;32m   1178\u001b[0m     \u001b[39m'\u001b[39m\u001b[39mtrain\u001b[39m\u001b[39m'\u001b[39m,\n\u001b[0;32m   1179\u001b[0m     epoch_num\u001b[39m=\u001b[39mepoch,\n\u001b[0;32m   1180\u001b[0m     step_num\u001b[39m=\u001b[39mstep,\n\u001b[0;32m   1181\u001b[0m     batch_size\u001b[39m=\u001b[39mbatch_size,\n\u001b[0;32m   1182\u001b[0m     _r\u001b[39m=\u001b[39m\u001b[39m1\u001b[39m):\n\u001b[0;32m   1183\u001b[0m   callbacks\u001b[39m.\u001b[39mon_train_batch_begin(step)\n\u001b[1;32m-> 1184\u001b[0m   tmp_logs \u001b[39m=\u001b[39m \u001b[39mself\u001b[39;49m\u001b[39m.\u001b[39;49mtrain_function(iterator)\n\u001b[0;32m   1185\u001b[0m   \u001b[39mif\u001b[39;00m data_handler\u001b[39m.\u001b[39mshould_sync:\n\u001b[0;32m   1186\u001b[0m     context\u001b[39m.\u001b[39masync_wait()\n",
      "File \u001b[1;32mc:\\Users\\Storbiiic\\anaconda3\\envs\\tf-gpu\\lib\\site-packages\\tensorflow\\python\\eager\\def_function.py:885\u001b[0m, in \u001b[0;36mFunction.__call__\u001b[1;34m(self, *args, **kwds)\u001b[0m\n\u001b[0;32m    882\u001b[0m compiler \u001b[39m=\u001b[39m \u001b[39m\"\u001b[39m\u001b[39mxla\u001b[39m\u001b[39m\"\u001b[39m \u001b[39mif\u001b[39;00m \u001b[39mself\u001b[39m\u001b[39m.\u001b[39m_jit_compile \u001b[39melse\u001b[39;00m \u001b[39m\"\u001b[39m\u001b[39mnonXla\u001b[39m\u001b[39m\"\u001b[39m\n\u001b[0;32m    884\u001b[0m \u001b[39mwith\u001b[39;00m OptionalXlaContext(\u001b[39mself\u001b[39m\u001b[39m.\u001b[39m_jit_compile):\n\u001b[1;32m--> 885\u001b[0m   result \u001b[39m=\u001b[39m \u001b[39mself\u001b[39m\u001b[39m.\u001b[39m_call(\u001b[39m*\u001b[39margs, \u001b[39m*\u001b[39m\u001b[39m*\u001b[39mkwds)\n\u001b[0;32m    887\u001b[0m new_tracing_count \u001b[39m=\u001b[39m \u001b[39mself\u001b[39m\u001b[39m.\u001b[39mexperimental_get_tracing_count()\n\u001b[0;32m    888\u001b[0m without_tracing \u001b[39m=\u001b[39m (tracing_count \u001b[39m==\u001b[39m new_tracing_count)\n",
      "File \u001b[1;32mc:\\Users\\Storbiiic\\anaconda3\\envs\\tf-gpu\\lib\\site-packages\\tensorflow\\python\\eager\\def_function.py:917\u001b[0m, in \u001b[0;36mFunction._call\u001b[1;34m(self, *args, **kwds)\u001b[0m\n\u001b[0;32m    914\u001b[0m   \u001b[39mself\u001b[39m\u001b[39m.\u001b[39m_lock\u001b[39m.\u001b[39mrelease()\n\u001b[0;32m    915\u001b[0m   \u001b[39m# In this case we have created variables on the first call, so we run the\u001b[39;00m\n\u001b[0;32m    916\u001b[0m   \u001b[39m# defunned version which is guaranteed to never create variables.\u001b[39;00m\n\u001b[1;32m--> 917\u001b[0m   \u001b[39mreturn\u001b[39;00m \u001b[39mself\u001b[39m\u001b[39m.\u001b[39m_stateless_fn(\u001b[39m*\u001b[39margs, \u001b[39m*\u001b[39m\u001b[39m*\u001b[39mkwds)  \u001b[39m# pylint: disable=not-callable\u001b[39;00m\n\u001b[0;32m    918\u001b[0m \u001b[39melif\u001b[39;00m \u001b[39mself\u001b[39m\u001b[39m.\u001b[39m_stateful_fn \u001b[39mis\u001b[39;00m \u001b[39mnot\u001b[39;00m \u001b[39mNone\u001b[39;00m:\n\u001b[0;32m    919\u001b[0m   \u001b[39m# Release the lock early so that multiple threads can perform the call\u001b[39;00m\n\u001b[0;32m    920\u001b[0m   \u001b[39m# in parallel.\u001b[39;00m\n\u001b[0;32m    921\u001b[0m   \u001b[39mself\u001b[39m\u001b[39m.\u001b[39m_lock\u001b[39m.\u001b[39mrelease()\n",
      "File \u001b[1;32mc:\\Users\\Storbiiic\\anaconda3\\envs\\tf-gpu\\lib\\site-packages\\tensorflow\\python\\eager\\function.py:3039\u001b[0m, in \u001b[0;36mFunction.__call__\u001b[1;34m(self, *args, **kwargs)\u001b[0m\n\u001b[0;32m   3036\u001b[0m \u001b[39mwith\u001b[39;00m \u001b[39mself\u001b[39m\u001b[39m.\u001b[39m_lock:\n\u001b[0;32m   3037\u001b[0m   (graph_function,\n\u001b[0;32m   3038\u001b[0m    filtered_flat_args) \u001b[39m=\u001b[39m \u001b[39mself\u001b[39m\u001b[39m.\u001b[39m_maybe_define_function(args, kwargs)\n\u001b[1;32m-> 3039\u001b[0m \u001b[39mreturn\u001b[39;00m graph_function\u001b[39m.\u001b[39;49m_call_flat(\n\u001b[0;32m   3040\u001b[0m     filtered_flat_args, captured_inputs\u001b[39m=\u001b[39;49mgraph_function\u001b[39m.\u001b[39;49mcaptured_inputs)\n",
      "File \u001b[1;32mc:\\Users\\Storbiiic\\anaconda3\\envs\\tf-gpu\\lib\\site-packages\\tensorflow\\python\\eager\\function.py:1963\u001b[0m, in \u001b[0;36mConcreteFunction._call_flat\u001b[1;34m(self, args, captured_inputs, cancellation_manager)\u001b[0m\n\u001b[0;32m   1959\u001b[0m possible_gradient_type \u001b[39m=\u001b[39m gradients_util\u001b[39m.\u001b[39mPossibleTapeGradientTypes(args)\n\u001b[0;32m   1960\u001b[0m \u001b[39mif\u001b[39;00m (possible_gradient_type \u001b[39m==\u001b[39m gradients_util\u001b[39m.\u001b[39mPOSSIBLE_GRADIENT_TYPES_NONE\n\u001b[0;32m   1961\u001b[0m     \u001b[39mand\u001b[39;00m executing_eagerly):\n\u001b[0;32m   1962\u001b[0m   \u001b[39m# No tape is watching; skip to running the function.\u001b[39;00m\n\u001b[1;32m-> 1963\u001b[0m   \u001b[39mreturn\u001b[39;00m \u001b[39mself\u001b[39m\u001b[39m.\u001b[39m_build_call_outputs(\u001b[39mself\u001b[39;49m\u001b[39m.\u001b[39;49m_inference_function\u001b[39m.\u001b[39;49mcall(\n\u001b[0;32m   1964\u001b[0m       ctx, args, cancellation_manager\u001b[39m=\u001b[39;49mcancellation_manager))\n\u001b[0;32m   1965\u001b[0m forward_backward \u001b[39m=\u001b[39m \u001b[39mself\u001b[39m\u001b[39m.\u001b[39m_select_forward_and_backward_functions(\n\u001b[0;32m   1966\u001b[0m     args,\n\u001b[0;32m   1967\u001b[0m     possible_gradient_type,\n\u001b[0;32m   1968\u001b[0m     executing_eagerly)\n\u001b[0;32m   1969\u001b[0m forward_function, args_with_tangents \u001b[39m=\u001b[39m forward_backward\u001b[39m.\u001b[39mforward()\n",
      "File \u001b[1;32mc:\\Users\\Storbiiic\\anaconda3\\envs\\tf-gpu\\lib\\site-packages\\tensorflow\\python\\eager\\function.py:591\u001b[0m, in \u001b[0;36m_EagerDefinedFunction.call\u001b[1;34m(self, ctx, args, cancellation_manager)\u001b[0m\n\u001b[0;32m    589\u001b[0m \u001b[39mwith\u001b[39;00m _InterpolateFunctionError(\u001b[39mself\u001b[39m):\n\u001b[0;32m    590\u001b[0m   \u001b[39mif\u001b[39;00m cancellation_manager \u001b[39mis\u001b[39;00m \u001b[39mNone\u001b[39;00m:\n\u001b[1;32m--> 591\u001b[0m     outputs \u001b[39m=\u001b[39m execute\u001b[39m.\u001b[39;49mexecute(\n\u001b[0;32m    592\u001b[0m         \u001b[39mstr\u001b[39;49m(\u001b[39mself\u001b[39;49m\u001b[39m.\u001b[39;49msignature\u001b[39m.\u001b[39;49mname),\n\u001b[0;32m    593\u001b[0m         num_outputs\u001b[39m=\u001b[39;49m\u001b[39mself\u001b[39;49m\u001b[39m.\u001b[39;49m_num_outputs,\n\u001b[0;32m    594\u001b[0m         inputs\u001b[39m=\u001b[39;49margs,\n\u001b[0;32m    595\u001b[0m         attrs\u001b[39m=\u001b[39;49mattrs,\n\u001b[0;32m    596\u001b[0m         ctx\u001b[39m=\u001b[39;49mctx)\n\u001b[0;32m    597\u001b[0m   \u001b[39melse\u001b[39;00m:\n\u001b[0;32m    598\u001b[0m     outputs \u001b[39m=\u001b[39m execute\u001b[39m.\u001b[39mexecute_with_cancellation(\n\u001b[0;32m    599\u001b[0m         \u001b[39mstr\u001b[39m(\u001b[39mself\u001b[39m\u001b[39m.\u001b[39msignature\u001b[39m.\u001b[39mname),\n\u001b[0;32m    600\u001b[0m         num_outputs\u001b[39m=\u001b[39m\u001b[39mself\u001b[39m\u001b[39m.\u001b[39m_num_outputs,\n\u001b[1;32m   (...)\u001b[0m\n\u001b[0;32m    603\u001b[0m         ctx\u001b[39m=\u001b[39mctx,\n\u001b[0;32m    604\u001b[0m         cancellation_manager\u001b[39m=\u001b[39mcancellation_manager)\n",
      "File \u001b[1;32mc:\\Users\\Storbiiic\\anaconda3\\envs\\tf-gpu\\lib\\site-packages\\tensorflow\\python\\eager\\execute.py:59\u001b[0m, in \u001b[0;36mquick_execute\u001b[1;34m(op_name, num_outputs, inputs, attrs, ctx, name)\u001b[0m\n\u001b[0;32m     57\u001b[0m \u001b[39mtry\u001b[39;00m:\n\u001b[0;32m     58\u001b[0m   ctx\u001b[39m.\u001b[39mensure_initialized()\n\u001b[1;32m---> 59\u001b[0m   tensors \u001b[39m=\u001b[39m pywrap_tfe\u001b[39m.\u001b[39;49mTFE_Py_Execute(ctx\u001b[39m.\u001b[39;49m_handle, device_name, op_name,\n\u001b[0;32m     60\u001b[0m                                       inputs, attrs, num_outputs)\n\u001b[0;32m     61\u001b[0m \u001b[39mexcept\u001b[39;00m core\u001b[39m.\u001b[39m_NotOkStatusException \u001b[39mas\u001b[39;00m e:\n\u001b[0;32m     62\u001b[0m   \u001b[39mif\u001b[39;00m name \u001b[39mis\u001b[39;00m \u001b[39mnot\u001b[39;00m \u001b[39mNone\u001b[39;00m:\n",
      "\u001b[1;31mKeyboardInterrupt\u001b[0m: "
     ]
    }
   ],
   "source": [
    "nb_epoch = 15\n",
    "batch_size = 2048\n",
    "autoencoder.compile(optimizer='adam', \n",
    "                    loss='mean_squared_error', \n",
    "                    metrics=['accuracy'])\n",
    "checkpointer = ModelCheckpoint(filepath=\"model.h5\",\n",
    "                               verbose=0,\n",
    "                               save_best_only=True)\n",
    "tensorboard = TensorBoard(log_dir='./logs',\n",
    "                          histogram_freq=0,\n",
    "                          write_graph=True,\n",
    "                          write_images=True)\n",
    "history = autoencoder.fit(X_train, X_train,\n",
    "                    epochs=nb_epoch,\n",
    "                    batch_size=batch_size,\n",
    "                    shuffle=True,\n",
    "                    validation_data=(X_test, X_test),\n",
    "                    verbose=1,\n",
    "                    callbacks=[checkpointer, tensorboard]).history"
   ]
  },
  {
   "cell_type": "code",
   "execution_count": null,
   "metadata": {},
   "outputs": [],
   "source": [
    "\n",
    "import tensorflow as tf\n",
    "from sklearn.metrics import accuracy_score, precision_score, recall_score\n",
    "from tensorflow.keras import layers, losses\n",
    "from tensorflow.keras.models import Model"
   ]
  },
  {
   "cell_type": "code",
   "execution_count": null,
   "metadata": {},
   "outputs": [],
   "source": [
    "class AnomalyDetector(Model):\n",
    "  def __init__(self, input_dim):\n",
    "    super(AnomalyDetector, self).__init__()\n",
    "    self.encoder = tf.keras.Sequential([\n",
    "      layers.Dense(64, activation=\"relu\"),\n",
    "      layers.Dense(32, activation=\"relu\"),\n",
    "      layers.Dense(16, activation=\"relu\"),\n",
    "      layers.Dense(14, activation=\"relu\")])\n",
    "\n",
    "    self.decoder=tf.keras.Sequential([\n",
    "      layers.Dense(16,activation='relu'),\n",
    "      layers.Dense(32,activation='relu'),\n",
    "      layers.Dense(64,activation='relu'),\n",
    "      layers.Dense(input_dim, activation=\"sigmoid\")\n",
    "    ])\n",
    "  def call(self, x):\n",
    "    encoded = self.encoder(x)\n",
    "    decoded = self.decoder(encoded)\n",
    "    return decoded\n",
    "\n",
    "input_dim=X_train.shape[1]\n",
    "autoencoder = AnomalyDetector(input_dim)\n",
    "\n",
    "autoencoder.compile(optimizer='adam', loss='mse')"
   ]
  },
  {
   "cell_type": "code",
   "execution_count": null,
   "metadata": {},
   "outputs": [
    {
     "name": "stdout",
     "output_type": "stream",
     "text": [
      "Epoch 1/15\n",
      "1273/1273 [==============================] - 5s 3ms/step - loss: 0.4525 - val_loss: 0.4091\n",
      "Epoch 2/15\n",
      "1273/1273 [==============================] - 4s 3ms/step - loss: 0.4067 - val_loss: 0.4062\n",
      "Epoch 3/15\n",
      "1273/1273 [==============================] - 4s 3ms/step - loss: 0.4056 - val_loss: 0.4060\n",
      "Epoch 4/15\n",
      "1273/1273 [==============================] - 4s 3ms/step - loss: 0.4052 - val_loss: 0.4058\n",
      "Epoch 5/15\n",
      "1273/1273 [==============================] - 4s 3ms/step - loss: 0.4048 - val_loss: 0.4061\n",
      "Epoch 6/15\n",
      "1273/1273 [==============================] - 4s 3ms/step - loss: 0.4045 - val_loss: 0.4049\n",
      "Epoch 7/15\n",
      "1273/1273 [==============================] - 4s 3ms/step - loss: 0.4042 - val_loss: 0.4046\n",
      "Epoch 8/15\n",
      "1273/1273 [==============================] - 4s 3ms/step - loss: 0.4041 - val_loss: 0.4048\n",
      "Epoch 9/15\n",
      "1273/1273 [==============================] - 4s 3ms/step - loss: 0.4040 - val_loss: 0.4046\n",
      "Epoch 10/15\n",
      "1273/1273 [==============================] - 4s 3ms/step - loss: 0.4039 - val_loss: 0.4046\n",
      "Epoch 11/15\n",
      "1273/1273 [==============================] - 4s 3ms/step - loss: 0.4038 - val_loss: 0.4048\n",
      "Epoch 12/15\n",
      "1273/1273 [==============================] - 4s 3ms/step - loss: 0.4037 - val_loss: 0.4042\n",
      "Epoch 13/15\n",
      "1273/1273 [==============================] - 4s 3ms/step - loss: 0.4037 - val_loss: 0.4042\n",
      "Epoch 14/15\n",
      "1273/1273 [==============================] - 4s 3ms/step - loss: 0.4037 - val_loss: 0.4041\n",
      "Epoch 15/15\n",
      "1273/1273 [==============================] - 4s 3ms/step - loss: 0.4036 - val_loss: 0.4041\n"
     ]
    }
   ],
   "source": [
    "history = autoencoder.fit(X_train, X_train, \n",
    "          epochs=15, \n",
    "          batch_size=1024,\n",
    "          validation_data=(X_test, X_test),\n",
    "          shuffle=True)"
   ]
  },
  {
   "cell_type": "code",
   "execution_count": null,
   "metadata": {},
   "outputs": [
    {
     "data": {
      "image/png": "[encoded data removed]",
      "text/plain": [
       "<Figure size 640x480 with 1 Axes>"
      ]
     },
     "metadata": {},
     "output_type": "display_data"
    }
   ],
   "source": [
    "plt.plot(history['loss'])\n",
    "plt.plot(history['val_loss'])\n",
    "plt.title('model loss')\n",
    "plt.ylabel('loss')\n",
    "plt.xlabel('epoch')\n",
    "plt.legend(['train', 'test'], loc='upper right');"
   ]
  },
  {
   "cell_type": "code",
   "execution_count": null,
   "metadata": {},
   "outputs": [
    {
     "data": {
      "text/html": [
       "<div>\n",
       "<style scoped>\n",
       "    .dataframe tbody tr th:only-of-type {\n",
       "        vertical-align: middle;\n",
       "    }\n",
       "\n",
       "    .dataframe tbody tr th {\n",
       "        vertical-align: top;\n",
       "    }\n",
       "\n",
       "    .dataframe thead th {\n",
       "        text-align: right;\n",
       "    }\n",
       "</style>\n",
       "<table border=\"1\" class=\"dataframe\">\n",
       "  <thead>\n",
       "    <tr style=\"text-align: right;\">\n",
       "      <th></th>\n",
       "      <th>reconstruction_error</th>\n",
       "      <th>true_class</th>\n",
       "    </tr>\n",
       "  </thead>\n",
       "  <tbody>\n",
       "    <tr>\n",
       "      <th>count</th>\n",
       "      <td>1.652050e+06</td>\n",
       "      <td>1.652050e+06</td>\n",
       "    </tr>\n",
       "    <tr>\n",
       "      <th>mean</th>\n",
       "      <td>3.252685e-01</td>\n",
       "      <td>1.352683e-02</td>\n",
       "    </tr>\n",
       "    <tr>\n",
       "      <th>std</th>\n",
       "      <td>1.045159e+02</td>\n",
       "      <td>1.155156e-01</td>\n",
       "    </tr>\n",
       "    <tr>\n",
       "      <th>min</th>\n",
       "      <td>5.288226e-03</td>\n",
       "      <td>0.000000e+00</td>\n",
       "    </tr>\n",
       "    <tr>\n",
       "      <th>25%</th>\n",
       "      <td>6.709546e-02</td>\n",
       "      <td>0.000000e+00</td>\n",
       "    </tr>\n",
       "    <tr>\n",
       "      <th>50%</th>\n",
       "      <td>1.161776e-01</td>\n",
       "      <td>0.000000e+00</td>\n",
       "    </tr>\n",
       "    <tr>\n",
       "      <th>75%</th>\n",
       "      <td>2.041793e-01</td>\n",
       "      <td>0.000000e+00</td>\n",
       "    </tr>\n",
       "    <tr>\n",
       "      <th>max</th>\n",
       "      <td>1.328934e+05</td>\n",
       "      <td>1.000000e+00</td>\n",
       "    </tr>\n",
       "  </tbody>\n",
       "</table>\n",
       "</div>"
      ],
      "text/plain": [
       "       reconstruction_error    true_class\n",
       "count          1.652050e+06  1.652050e+06\n",
       "mean           3.252685e-01  1.352683e-02\n",
       "std            1.045159e+02  1.155156e-01\n",
       "min            5.288226e-03  0.000000e+00\n",
       "25%            6.709546e-02  0.000000e+00\n",
       "50%            1.161776e-01  0.000000e+00\n",
       "75%            2.041793e-01  0.000000e+00\n",
       "max            1.328934e+05  1.000000e+00"
      ]
     },
     "execution_count": 103,
     "metadata": {},
     "output_type": "execute_result"
    }
   ],
   "source": [
    "predictions = autoencoder.predict(X_test)\n",
    "mse = np.mean(np.power(X_test - predictions, 2), axis=1)\n",
    "error_df = pd.DataFrame({'reconstruction_error': mse,\n",
    "                        'true_class': y_test})\n",
    "error_df.describe()"
   ]
  },
  {
   "cell_type": "code",
   "execution_count": null,
   "metadata": {},
   "outputs": [
    {
     "data": {
      "image/png": "[encoded data removed]",
      "text/plain": [
       "<Figure size 640x480 with 1 Axes>"
      ]
     },
     "metadata": {},
     "output_type": "display_data"
    }
   ],
   "source": [
    "fig = plt.figure()\n",
    "ax = fig.add_subplot(111)\n",
    "normal_error_df = error_df[(error_df['true_class']== 0) & (error_df['reconstruction_error'] < 10)]\n",
    "_ = ax.hist(normal_error_df.reconstruction_error.values, bins=10)"
   ]
  },
  {
   "cell_type": "code",
   "execution_count": null,
   "metadata": {},
   "outputs": [
    {
     "data": {
      "image/png": "[encoded data removed]",
      "text/plain": [
       "<Figure size 640x480 with 1 Axes>"
      ]
     },
     "metadata": {},
     "output_type": "display_data"
    }
   ],
   "source": [
    "fig = plt.figure()\n",
    "ax = fig.add_subplot(111)\n",
    "fraud_error_df = error_df[error_df['true_class'] == 1]\n",
    "_ = ax.hist(fraud_error_df.reconstruction_error.values, bins=10)"
   ]
  },
  {
   "cell_type": "code",
   "execution_count": null,
   "metadata": {},
   "outputs": [],
   "source": [
    "from sklearn.metrics import (confusion_matrix, precision_recall_curve, auc,\n",
    "                             roc_curve, recall_score, classification_report, f1_score,\n",
    "                             precision_recall_fscore_support)"
   ]
  },
  {
   "cell_type": "code",
   "execution_count": null,
   "metadata": {},
   "outputs": [
    {
     "data": {
      "image/png": "[encoded data removed]",
      "text/plain": [
       "<Figure size 640x480 with 1 Axes>"
      ]
     },
     "metadata": {},
     "output_type": "display_data"
    }
   ],
   "source": [
    "fpr, tpr, thresholds = roc_curve(error_df.true_class, error_df.reconstruction_error)\n",
    "roc_auc = auc(fpr, tpr)\n",
    "\n",
    "plt.title('Receiver Operating Characteristic')\n",
    "plt.plot(fpr, tpr, label='AUC = %0.4f'% roc_auc)\n",
    "plt.legend(loc='lower right')\n",
    "plt.plot([0,1],[0,1],'r--')\n",
    "plt.xlim([-0.001, 1])\n",
    "plt.ylim([0, 1.001])\n",
    "plt.ylabel('True Positive Rate')\n",
    "plt.xlabel('False Positive Rate')\n",
    "plt.show();"
   ]
  },
  {
   "cell_type": "code",
   "execution_count": null,
   "metadata": {},
   "outputs": [
    {
     "data": {
      "image/png": "[encoded data removed]",
      "text/plain": [
       "<Figure size 640x480 with 1 Axes>"
      ]
     },
     "metadata": {},
     "output_type": "display_data"
    }
   ],
   "source": [
    "precision, recall, th = precision_recall_curve(error_df.true_class, error_df.reconstruction_error)\n",
    "plt.plot(recall, precision, 'b', label='Precision-Recall curve')\n",
    "plt.title('Recall vs Precision')\n",
    "plt.xlabel('Recall')\n",
    "plt.ylabel('Precision')\n",
    "plt.show()"
   ]
  },
  {
   "cell_type": "code",
   "execution_count": null,
   "metadata": {},
   "outputs": [
    {
     "data": {
      "image/png": "[encoded data removed]",
      "text/plain": [
       "<Figure size 640x480 with 1 Axes>"
      ]
     },
     "metadata": {},
     "output_type": "display_data"
    }
   ],
   "source": [
    "plt.plot(th, precision[1:], 'b', label='Threshold-Precision curve')\n",
    "plt.title('Precision for different threshold values')\n",
    "plt.xlabel('Threshold')\n",
    "plt.ylabel('Precision')\n",
    "plt.show()"
   ]
  },
  {
   "cell_type": "code",
   "execution_count": null,
   "metadata": {},
   "outputs": [
    {
     "data": {
      "image/png": "[encoded data removed]",
      "text/plain": [
       "<Figure size 640x480 with 1 Axes>"
      ]
     },
     "metadata": {},
     "output_type": "display_data"
    }
   ],
   "source": [
    "plt.plot(th, recall[1:], 'b', label='Threshold-Recall curve')\n",
    "plt.title('Recall for different threshold values')\n",
    "plt.xlabel('Reconstruction error')\n",
    "plt.ylabel('Recall')\n",
    "plt.show()"
   ]
  },
  {
   "cell_type": "markdown",
   "metadata": {},
   "source": [
    "### Predicton"
   ]
  },
  {
   "cell_type": "code",
   "execution_count": null,
   "metadata": {},
   "outputs": [],
   "source": [
    "threshold =0.2"
   ]
  },
  {
   "cell_type": "code",
   "execution_count": null,
   "metadata": {},
   "outputs": [
    {
     "data": {
      "image/png": "[encoded data removed]",
      "text/plain": [
       "<Figure size 640x480 with 1 Axes>"
      ]
     },
     "metadata": {},
     "output_type": "display_data"
    }
   ],
   "source": [
    "groups = error_df.groupby('true_class')\n",
    "fig, ax = plt.subplots()\n",
    "\n",
    "for name, group in groups:\n",
    "    ax.plot(group.index, group.reconstruction_error, marker='o', ms=3.5, linestyle='',\n",
    "            label= \"Fraud\" if name == 1 else \"Normal\")\n",
    "ax.hlines(threshold, ax.get_xlim()[0], ax.get_xlim()[1], colors=\"r\", zorder=100, label='Threshold')\n",
    "ax.legend()\n",
    "plt.title(\"Reconstruction error for different classes\")\n",
    "plt.ylabel(\"Reconstruction error\")\n",
    "plt.xlabel(\"Data point index\")\n",
    "plt.show();"
   ]
  },
  {
   "cell_type": "code",
   "execution_count": null,
   "metadata": {},
   "outputs": [
    {
     "data": {
      "image/png": "[encoded data removed]",
      "text/plain": [
       "<Figure size 1200x1200 with 2 Axes>"
      ]
     },
     "metadata": {},
     "output_type": "display_data"
    }
   ],
   "source": [
    "y_pred = [1 if e > threshold else 0 for e in error_df.reconstruction_error.values]\n",
    "conf_matrix = confusion_matrix(error_df.true_class, y_pred)\n",
    "plt.figure(figsize=(12, 12))\n",
    "sns.heatmap(conf_matrix, xticklabels=LABELS, yticklabels=LABELS, annot=True, fmt=\"d\");\n",
    "plt.title(\"Confusion matrix\")\n",
    "plt.ylabel('True class')\n",
    "plt.xlabel('Predicted class')\n",
    "plt.show()"
   ]
  }
 ],
 "metadata": {
  "kernelspec": {
   "display_name": "tf-gpu",
   "language": "python",
   "name": "python3"
  },
  "language_info": {
   "codemirror_mode": {
    "name": "ipython",
    "version": 3
   },
   "file_extension": ".py",
   "mimetype": "text/x-python",
   "name": "python",
   "nbconvert_exporter": "python",
   "pygments_lexer": "ipython3",
   "version": "3.9.17"
  },
  "orig_nbformat": 4
 },
 "nbformat": 4,
 "nbformat_minor": 2
}
